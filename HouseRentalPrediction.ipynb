{
 "cells": [
  {
   "cell_type": "code",
   "execution_count": 80,
   "id": "f1919979",
   "metadata": {},
   "outputs": [],
   "source": [
    "# Let's create a ML model to predict rent of house.\n",
    "# Here is the data - Link\n",
    "\n",
    "# https://github.com/edyoda/data-science-complete-tutorial/blob/master/Data/house_rental_data.csv.txt\n",
    "\n",
    "# Make sure you do data wrangling & get useful insights/visualizations\n",
    "# Create models using Linear Regressions or variations of it\n",
    "# Think harder about data preprocessing"
   ]
  },
  {
   "cell_type": "code",
   "execution_count": 81,
   "id": "0d733d44",
   "metadata": {},
   "outputs": [],
   "source": [
    "#import relevant libraries\n",
    "\n",
    "import pandas as pd\n",
    "import numpy as np\n",
    "import matplotlib.pyplot as plt\n",
    "import seaborn as sns"
   ]
  },
  {
   "cell_type": "code",
   "execution_count": 82,
   "id": "802fce4d",
   "metadata": {},
   "outputs": [
    {
     "data": {
      "text/html": [
       "<div>\n",
       "<style scoped>\n",
       "    .dataframe tbody tr th:only-of-type {\n",
       "        vertical-align: middle;\n",
       "    }\n",
       "\n",
       "    .dataframe tbody tr th {\n",
       "        vertical-align: top;\n",
       "    }\n",
       "\n",
       "    .dataframe thead th {\n",
       "        text-align: right;\n",
       "    }\n",
       "</style>\n",
       "<table border=\"1\" class=\"dataframe\">\n",
       "  <thead>\n",
       "    <tr style=\"text-align: right;\">\n",
       "      <th></th>\n",
       "      <th>Unnamed: 0</th>\n",
       "      <th>Sqft</th>\n",
       "      <th>Floor</th>\n",
       "      <th>TotalFloor</th>\n",
       "      <th>Bedroom</th>\n",
       "      <th>Living.Room</th>\n",
       "      <th>Bathroom</th>\n",
       "      <th>Price</th>\n",
       "    </tr>\n",
       "  </thead>\n",
       "  <tbody>\n",
       "    <tr>\n",
       "      <th>0</th>\n",
       "      <td>1</td>\n",
       "      <td>1177.698</td>\n",
       "      <td>2</td>\n",
       "      <td>7</td>\n",
       "      <td>2</td>\n",
       "      <td>2</td>\n",
       "      <td>2</td>\n",
       "      <td>62000</td>\n",
       "    </tr>\n",
       "    <tr>\n",
       "      <th>1</th>\n",
       "      <td>2</td>\n",
       "      <td>2134.800</td>\n",
       "      <td>5</td>\n",
       "      <td>7</td>\n",
       "      <td>4</td>\n",
       "      <td>2</td>\n",
       "      <td>2</td>\n",
       "      <td>78000</td>\n",
       "    </tr>\n",
       "    <tr>\n",
       "      <th>2</th>\n",
       "      <td>3</td>\n",
       "      <td>1138.560</td>\n",
       "      <td>5</td>\n",
       "      <td>7</td>\n",
       "      <td>2</td>\n",
       "      <td>2</td>\n",
       "      <td>1</td>\n",
       "      <td>58000</td>\n",
       "    </tr>\n",
       "    <tr>\n",
       "      <th>3</th>\n",
       "      <td>4</td>\n",
       "      <td>1458.780</td>\n",
       "      <td>2</td>\n",
       "      <td>7</td>\n",
       "      <td>3</td>\n",
       "      <td>2</td>\n",
       "      <td>2</td>\n",
       "      <td>45000</td>\n",
       "    </tr>\n",
       "    <tr>\n",
       "      <th>4</th>\n",
       "      <td>5</td>\n",
       "      <td>967.776</td>\n",
       "      <td>11</td>\n",
       "      <td>14</td>\n",
       "      <td>3</td>\n",
       "      <td>2</td>\n",
       "      <td>2</td>\n",
       "      <td>45000</td>\n",
       "    </tr>\n",
       "  </tbody>\n",
       "</table>\n",
       "</div>"
      ],
      "text/plain": [
       "   Unnamed: 0      Sqft  Floor  TotalFloor  Bedroom  Living.Room  Bathroom  \\\n",
       "0           1  1177.698      2           7        2            2         2   \n",
       "1           2  2134.800      5           7        4            2         2   \n",
       "2           3  1138.560      5           7        2            2         1   \n",
       "3           4  1458.780      2           7        3            2         2   \n",
       "4           5   967.776     11          14        3            2         2   \n",
       "\n",
       "   Price  \n",
       "0  62000  \n",
       "1  78000  \n",
       "2  58000  \n",
       "3  45000  \n",
       "4  45000  "
      ]
     },
     "execution_count": 82,
     "metadata": {},
     "output_type": "execute_result"
    }
   ],
   "source": [
    "df = pd.read_csv('HouseRental.csv')\n",
    "df.head()"
   ]
  },
  {
   "cell_type": "code",
   "execution_count": 83,
   "id": "40d1980b",
   "metadata": {},
   "outputs": [
    {
     "name": "stdout",
     "output_type": "stream",
     "text": [
      "<class 'pandas.core.frame.DataFrame'>\n",
      "RangeIndex: 645 entries, 0 to 644\n",
      "Data columns (total 8 columns):\n",
      " #   Column       Non-Null Count  Dtype  \n",
      "---  ------       --------------  -----  \n",
      " 0   Unnamed: 0   645 non-null    int64  \n",
      " 1   Sqft         645 non-null    float64\n",
      " 2   Floor        645 non-null    int64  \n",
      " 3   TotalFloor   645 non-null    int64  \n",
      " 4   Bedroom      645 non-null    int64  \n",
      " 5   Living.Room  645 non-null    int64  \n",
      " 6   Bathroom     645 non-null    int64  \n",
      " 7   Price        645 non-null    int64  \n",
      "dtypes: float64(1), int64(7)\n",
      "memory usage: 40.4 KB\n"
     ]
    }
   ],
   "source": [
    "df.info()"
   ]
  },
  {
   "cell_type": "code",
   "execution_count": 303,
   "id": "ff9ec60d",
   "metadata": {},
   "outputs": [
    {
     "data": {
      "text/html": [
       "<div>\n",
       "<style scoped>\n",
       "    .dataframe tbody tr th:only-of-type {\n",
       "        vertical-align: middle;\n",
       "    }\n",
       "\n",
       "    .dataframe tbody tr th {\n",
       "        vertical-align: top;\n",
       "    }\n",
       "\n",
       "    .dataframe thead th {\n",
       "        text-align: right;\n",
       "    }\n",
       "</style>\n",
       "<table border=\"1\" class=\"dataframe\">\n",
       "  <thead>\n",
       "    <tr style=\"text-align: right;\">\n",
       "      <th></th>\n",
       "      <th>Sqft</th>\n",
       "      <th>Floor</th>\n",
       "      <th>TotalFloor</th>\n",
       "      <th>Bedroom</th>\n",
       "      <th>Living.Room</th>\n",
       "      <th>Bathroom</th>\n",
       "      <th>Price</th>\n",
       "    </tr>\n",
       "  </thead>\n",
       "  <tbody>\n",
       "    <tr>\n",
       "      <th>count</th>\n",
       "      <td>645.000000</td>\n",
       "      <td>645.000000</td>\n",
       "      <td>645.000000</td>\n",
       "      <td>645.000000</td>\n",
       "      <td>645.000000</td>\n",
       "      <td>645.000000</td>\n",
       "      <td>645.000000</td>\n",
       "    </tr>\n",
       "    <tr>\n",
       "      <th>mean</th>\n",
       "      <td>1527.656260</td>\n",
       "      <td>5.939535</td>\n",
       "      <td>10.855814</td>\n",
       "      <td>2.837209</td>\n",
       "      <td>1.813953</td>\n",
       "      <td>1.810853</td>\n",
       "      <td>61986.823256</td>\n",
       "    </tr>\n",
       "    <tr>\n",
       "      <th>std</th>\n",
       "      <td>767.386531</td>\n",
       "      <td>3.884721</td>\n",
       "      <td>4.996208</td>\n",
       "      <td>1.010740</td>\n",
       "      <td>0.462364</td>\n",
       "      <td>0.683574</td>\n",
       "      <td>35635.091007</td>\n",
       "    </tr>\n",
       "    <tr>\n",
       "      <th>min</th>\n",
       "      <td>359.358000</td>\n",
       "      <td>1.000000</td>\n",
       "      <td>1.000000</td>\n",
       "      <td>1.000000</td>\n",
       "      <td>0.000000</td>\n",
       "      <td>0.000000</td>\n",
       "      <td>6100.000000</td>\n",
       "    </tr>\n",
       "    <tr>\n",
       "      <th>25%</th>\n",
       "      <td>925.080000</td>\n",
       "      <td>3.000000</td>\n",
       "      <td>7.000000</td>\n",
       "      <td>2.000000</td>\n",
       "      <td>2.000000</td>\n",
       "      <td>1.000000</td>\n",
       "      <td>39000.000000</td>\n",
       "    </tr>\n",
       "    <tr>\n",
       "      <th>50%</th>\n",
       "      <td>1423.200000</td>\n",
       "      <td>5.000000</td>\n",
       "      <td>12.000000</td>\n",
       "      <td>3.000000</td>\n",
       "      <td>2.000000</td>\n",
       "      <td>2.000000</td>\n",
       "      <td>50000.000000</td>\n",
       "    </tr>\n",
       "    <tr>\n",
       "      <th>75%</th>\n",
       "      <td>1892.856000</td>\n",
       "      <td>8.000000</td>\n",
       "      <td>14.000000</td>\n",
       "      <td>4.000000</td>\n",
       "      <td>2.000000</td>\n",
       "      <td>2.000000</td>\n",
       "      <td>75000.000000</td>\n",
       "    </tr>\n",
       "    <tr>\n",
       "      <th>max</th>\n",
       "      <td>5856.468000</td>\n",
       "      <td>22.000000</td>\n",
       "      <td>38.000000</td>\n",
       "      <td>7.000000</td>\n",
       "      <td>4.000000</td>\n",
       "      <td>5.000000</td>\n",
       "      <td>250000.000000</td>\n",
       "    </tr>\n",
       "  </tbody>\n",
       "</table>\n",
       "</div>"
      ],
      "text/plain": [
       "              Sqft       Floor  TotalFloor     Bedroom  Living.Room  \\\n",
       "count   645.000000  645.000000  645.000000  645.000000   645.000000   \n",
       "mean   1527.656260    5.939535   10.855814    2.837209     1.813953   \n",
       "std     767.386531    3.884721    4.996208    1.010740     0.462364   \n",
       "min     359.358000    1.000000    1.000000    1.000000     0.000000   \n",
       "25%     925.080000    3.000000    7.000000    2.000000     2.000000   \n",
       "50%    1423.200000    5.000000   12.000000    3.000000     2.000000   \n",
       "75%    1892.856000    8.000000   14.000000    4.000000     2.000000   \n",
       "max    5856.468000   22.000000   38.000000    7.000000     4.000000   \n",
       "\n",
       "         Bathroom          Price  \n",
       "count  645.000000     645.000000  \n",
       "mean     1.810853   61986.823256  \n",
       "std      0.683574   35635.091007  \n",
       "min      0.000000    6100.000000  \n",
       "25%      1.000000   39000.000000  \n",
       "50%      2.000000   50000.000000  \n",
       "75%      2.000000   75000.000000  \n",
       "max      5.000000  250000.000000  "
      ]
     },
     "execution_count": 303,
     "metadata": {},
     "output_type": "execute_result"
    }
   ],
   "source": [
    "df.describe()"
   ]
  },
  {
   "cell_type": "code",
   "execution_count": 84,
   "id": "2811c586",
   "metadata": {},
   "outputs": [],
   "source": [
    "#insights:\n",
    "\n",
    "# there is no categorical value data\n",
    "# there are no null values\n",
    "# there are 6 explanatory variables : Sqft, Floor, TotalFloot, Bedroom, Living.Room, Bathroom\n",
    "# the target variable is Price\n",
    "# the data is clean and looks like it is already preprocessed"
   ]
  },
  {
   "cell_type": "code",
   "execution_count": 85,
   "id": "c6dd75c6",
   "metadata": {},
   "outputs": [
    {
     "data": {
      "text/html": [
       "<div>\n",
       "<style scoped>\n",
       "    .dataframe tbody tr th:only-of-type {\n",
       "        vertical-align: middle;\n",
       "    }\n",
       "\n",
       "    .dataframe tbody tr th {\n",
       "        vertical-align: top;\n",
       "    }\n",
       "\n",
       "    .dataframe thead th {\n",
       "        text-align: right;\n",
       "    }\n",
       "</style>\n",
       "<table border=\"1\" class=\"dataframe\">\n",
       "  <thead>\n",
       "    <tr style=\"text-align: right;\">\n",
       "      <th></th>\n",
       "      <th>Unnamed: 0</th>\n",
       "      <th>Sqft</th>\n",
       "      <th>Floor</th>\n",
       "      <th>TotalFloor</th>\n",
       "      <th>Bedroom</th>\n",
       "      <th>Living.Room</th>\n",
       "      <th>Bathroom</th>\n",
       "      <th>Price</th>\n",
       "    </tr>\n",
       "  </thead>\n",
       "  <tbody>\n",
       "    <tr>\n",
       "      <th>0</th>\n",
       "      <td>1</td>\n",
       "      <td>1177.698</td>\n",
       "      <td>2</td>\n",
       "      <td>7</td>\n",
       "      <td>2</td>\n",
       "      <td>2</td>\n",
       "      <td>2</td>\n",
       "      <td>62000</td>\n",
       "    </tr>\n",
       "    <tr>\n",
       "      <th>1</th>\n",
       "      <td>2</td>\n",
       "      <td>2134.800</td>\n",
       "      <td>5</td>\n",
       "      <td>7</td>\n",
       "      <td>4</td>\n",
       "      <td>2</td>\n",
       "      <td>2</td>\n",
       "      <td>78000</td>\n",
       "    </tr>\n",
       "    <tr>\n",
       "      <th>2</th>\n",
       "      <td>3</td>\n",
       "      <td>1138.560</td>\n",
       "      <td>5</td>\n",
       "      <td>7</td>\n",
       "      <td>2</td>\n",
       "      <td>2</td>\n",
       "      <td>1</td>\n",
       "      <td>58000</td>\n",
       "    </tr>\n",
       "    <tr>\n",
       "      <th>3</th>\n",
       "      <td>4</td>\n",
       "      <td>1458.780</td>\n",
       "      <td>2</td>\n",
       "      <td>7</td>\n",
       "      <td>3</td>\n",
       "      <td>2</td>\n",
       "      <td>2</td>\n",
       "      <td>45000</td>\n",
       "    </tr>\n",
       "    <tr>\n",
       "      <th>4</th>\n",
       "      <td>5</td>\n",
       "      <td>967.776</td>\n",
       "      <td>11</td>\n",
       "      <td>14</td>\n",
       "      <td>3</td>\n",
       "      <td>2</td>\n",
       "      <td>2</td>\n",
       "      <td>45000</td>\n",
       "    </tr>\n",
       "    <tr>\n",
       "      <th>...</th>\n",
       "      <td>...</td>\n",
       "      <td>...</td>\n",
       "      <td>...</td>\n",
       "      <td>...</td>\n",
       "      <td>...</td>\n",
       "      <td>...</td>\n",
       "      <td>...</td>\n",
       "      <td>...</td>\n",
       "    </tr>\n",
       "    <tr>\n",
       "      <th>640</th>\n",
       "      <td>644</td>\n",
       "      <td>1359.156</td>\n",
       "      <td>7</td>\n",
       "      <td>15</td>\n",
       "      <td>3</td>\n",
       "      <td>2</td>\n",
       "      <td>2</td>\n",
       "      <td>45000</td>\n",
       "    </tr>\n",
       "    <tr>\n",
       "      <th>641</th>\n",
       "      <td>645</td>\n",
       "      <td>377.148</td>\n",
       "      <td>4</td>\n",
       "      <td>10</td>\n",
       "      <td>1</td>\n",
       "      <td>1</td>\n",
       "      <td>1</td>\n",
       "      <td>24800</td>\n",
       "    </tr>\n",
       "    <tr>\n",
       "      <th>642</th>\n",
       "      <td>646</td>\n",
       "      <td>740.064</td>\n",
       "      <td>13</td>\n",
       "      <td>14</td>\n",
       "      <td>1</td>\n",
       "      <td>1</td>\n",
       "      <td>1</td>\n",
       "      <td>45000</td>\n",
       "    </tr>\n",
       "    <tr>\n",
       "      <th>643</th>\n",
       "      <td>647</td>\n",
       "      <td>1707.840</td>\n",
       "      <td>3</td>\n",
       "      <td>14</td>\n",
       "      <td>3</td>\n",
       "      <td>2</td>\n",
       "      <td>2</td>\n",
       "      <td>65000</td>\n",
       "    </tr>\n",
       "    <tr>\n",
       "      <th>644</th>\n",
       "      <td>648</td>\n",
       "      <td>1376.946</td>\n",
       "      <td>6</td>\n",
       "      <td>7</td>\n",
       "      <td>3</td>\n",
       "      <td>2</td>\n",
       "      <td>1</td>\n",
       "      <td>36000</td>\n",
       "    </tr>\n",
       "  </tbody>\n",
       "</table>\n",
       "<p>645 rows × 8 columns</p>\n",
       "</div>"
      ],
      "text/plain": [
       "     Unnamed: 0      Sqft  Floor  TotalFloor  Bedroom  Living.Room  Bathroom  \\\n",
       "0             1  1177.698      2           7        2            2         2   \n",
       "1             2  2134.800      5           7        4            2         2   \n",
       "2             3  1138.560      5           7        2            2         1   \n",
       "3             4  1458.780      2           7        3            2         2   \n",
       "4             5   967.776     11          14        3            2         2   \n",
       "..          ...       ...    ...         ...      ...          ...       ...   \n",
       "640         644  1359.156      7          15        3            2         2   \n",
       "641         645   377.148      4          10        1            1         1   \n",
       "642         646   740.064     13          14        1            1         1   \n",
       "643         647  1707.840      3          14        3            2         2   \n",
       "644         648  1376.946      6           7        3            2         1   \n",
       "\n",
       "     Price  \n",
       "0    62000  \n",
       "1    78000  \n",
       "2    58000  \n",
       "3    45000  \n",
       "4    45000  \n",
       "..     ...  \n",
       "640  45000  \n",
       "641  24800  \n",
       "642  45000  \n",
       "643  65000  \n",
       "644  36000  \n",
       "\n",
       "[645 rows x 8 columns]"
      ]
     },
     "execution_count": 85,
     "metadata": {},
     "output_type": "execute_result"
    }
   ],
   "source": [
    "df.drop_duplicates() #no duplicates found"
   ]
  },
  {
   "cell_type": "code",
   "execution_count": 86,
   "id": "233ba11a",
   "metadata": {},
   "outputs": [
    {
     "data": {
      "text/plain": [
       "Unnamed: 0    -0.077512\n",
       "Sqft           0.825514\n",
       "Floor          0.244553\n",
       "TotalFloor     0.333631\n",
       "Bedroom        0.467059\n",
       "Living.Room    0.328788\n",
       "Bathroom       0.605542\n",
       "Price          1.000000\n",
       "Name: Price, dtype: float64"
      ]
     },
     "execution_count": 86,
     "metadata": {},
     "output_type": "execute_result"
    }
   ],
   "source": [
    "#checking for corelation over Price variable\n",
    "\n",
    "df.corr()['Price']"
   ]
  },
  {
   "cell_type": "code",
   "execution_count": 87,
   "id": "54927c28",
   "metadata": {},
   "outputs": [],
   "source": [
    "df.drop('Unnamed: 0', axis=1, inplace = True)"
   ]
  },
  {
   "cell_type": "code",
   "execution_count": 88,
   "id": "74ea31fb",
   "metadata": {},
   "outputs": [
    {
     "data": {
      "text/html": [
       "<div>\n",
       "<style scoped>\n",
       "    .dataframe tbody tr th:only-of-type {\n",
       "        vertical-align: middle;\n",
       "    }\n",
       "\n",
       "    .dataframe tbody tr th {\n",
       "        vertical-align: top;\n",
       "    }\n",
       "\n",
       "    .dataframe thead th {\n",
       "        text-align: right;\n",
       "    }\n",
       "</style>\n",
       "<table border=\"1\" class=\"dataframe\">\n",
       "  <thead>\n",
       "    <tr style=\"text-align: right;\">\n",
       "      <th></th>\n",
       "      <th>Sqft</th>\n",
       "      <th>Floor</th>\n",
       "      <th>TotalFloor</th>\n",
       "      <th>Bedroom</th>\n",
       "      <th>Living.Room</th>\n",
       "      <th>Bathroom</th>\n",
       "      <th>Price</th>\n",
       "    </tr>\n",
       "  </thead>\n",
       "  <tbody>\n",
       "    <tr>\n",
       "      <th>0</th>\n",
       "      <td>1177.698</td>\n",
       "      <td>2</td>\n",
       "      <td>7</td>\n",
       "      <td>2</td>\n",
       "      <td>2</td>\n",
       "      <td>2</td>\n",
       "      <td>62000</td>\n",
       "    </tr>\n",
       "    <tr>\n",
       "      <th>1</th>\n",
       "      <td>2134.800</td>\n",
       "      <td>5</td>\n",
       "      <td>7</td>\n",
       "      <td>4</td>\n",
       "      <td>2</td>\n",
       "      <td>2</td>\n",
       "      <td>78000</td>\n",
       "    </tr>\n",
       "    <tr>\n",
       "      <th>2</th>\n",
       "      <td>1138.560</td>\n",
       "      <td>5</td>\n",
       "      <td>7</td>\n",
       "      <td>2</td>\n",
       "      <td>2</td>\n",
       "      <td>1</td>\n",
       "      <td>58000</td>\n",
       "    </tr>\n",
       "    <tr>\n",
       "      <th>3</th>\n",
       "      <td>1458.780</td>\n",
       "      <td>2</td>\n",
       "      <td>7</td>\n",
       "      <td>3</td>\n",
       "      <td>2</td>\n",
       "      <td>2</td>\n",
       "      <td>45000</td>\n",
       "    </tr>\n",
       "    <tr>\n",
       "      <th>4</th>\n",
       "      <td>967.776</td>\n",
       "      <td>11</td>\n",
       "      <td>14</td>\n",
       "      <td>3</td>\n",
       "      <td>2</td>\n",
       "      <td>2</td>\n",
       "      <td>45000</td>\n",
       "    </tr>\n",
       "  </tbody>\n",
       "</table>\n",
       "</div>"
      ],
      "text/plain": [
       "       Sqft  Floor  TotalFloor  Bedroom  Living.Room  Bathroom  Price\n",
       "0  1177.698      2           7        2            2         2  62000\n",
       "1  2134.800      5           7        4            2         2  78000\n",
       "2  1138.560      5           7        2            2         1  58000\n",
       "3  1458.780      2           7        3            2         2  45000\n",
       "4   967.776     11          14        3            2         2  45000"
      ]
     },
     "execution_count": 88,
     "metadata": {},
     "output_type": "execute_result"
    }
   ],
   "source": [
    "df.head()"
   ]
  },
  {
   "cell_type": "code",
   "execution_count": 89,
   "id": "a78e4fff",
   "metadata": {},
   "outputs": [
    {
     "data": {
      "text/plain": [
       "<AxesSubplot:xlabel='Price'>"
      ]
     },
     "execution_count": 89,
     "metadata": {},
     "output_type": "execute_result"
    },
    {
     "data": {
      "image/png": "[encoded data removed]",
      "text/plain": [
       "<Figure size 432x288 with 1 Axes>"
      ]
     },
     "metadata": {
      "needs_background": "light"
     },
     "output_type": "display_data"
    }
   ],
   "source": [
    "sns.boxplot(x = df['Price'])"
   ]
  },
  {
   "cell_type": "code",
   "execution_count": 90,
   "id": "5889447a",
   "metadata": {},
   "outputs": [
    {
     "data": {
      "text/plain": [
       "<AxesSubplot:xlabel='Price'>"
      ]
     },
     "execution_count": 90,
     "metadata": {},
     "output_type": "execute_result"
    },
    {
     "data": {
      "image/png": "[encoded data removed]",
      "text/plain": [
       "<Figure size 432x288 with 1 Axes>"
      ]
     },
     "metadata": {
      "needs_background": "light"
     },
     "output_type": "display_data"
    }
   ],
   "source": [
    "sns.boxplot(x = df['Price'])"
   ]
  },
  {
   "cell_type": "code",
   "execution_count": 91,
   "id": "6245b00d",
   "metadata": {},
   "outputs": [
    {
     "data": {
      "text/plain": [
       "<AxesSubplot:xlabel='Bathroom'>"
      ]
     },
     "execution_count": 91,
     "metadata": {},
     "output_type": "execute_result"
    },
    {
     "data": {
      "image/png": "[encoded data removed]",
      "text/plain": [
       "<Figure size 432x288 with 1 Axes>"
      ]
     },
     "metadata": {
      "needs_background": "light"
     },
     "output_type": "display_data"
    }
   ],
   "source": [
    "sns.boxplot(x = df['Bathroom'])"
   ]
  },
  {
   "cell_type": "code",
   "execution_count": 92,
   "id": "75d20661",
   "metadata": {},
   "outputs": [
    {
     "data": {
      "text/plain": [
       "<AxesSubplot:xlabel='Bathroom'>"
      ]
     },
     "execution_count": 92,
     "metadata": {},
     "output_type": "execute_result"
    },
    {
     "data": {
      "image/png": "[encoded data removed]",
      "text/plain": [
       "<Figure size 432x288 with 1 Axes>"
      ]
     },
     "metadata": {
      "needs_background": "light"
     },
     "output_type": "display_data"
    }
   ],
   "source": [
    "sns.boxplot(x = df['Bathroom'])"
   ]
  },
  {
   "cell_type": "code",
   "execution_count": 93,
   "id": "40527b80",
   "metadata": {},
   "outputs": [
    {
     "data": {
      "text/plain": [
       "<AxesSubplot:xlabel='TotalFloor'>"
      ]
     },
     "execution_count": 93,
     "metadata": {},
     "output_type": "execute_result"
    },
    {
     "data": {
      "image/png": "[encoded data removed]",
      "text/plain": [
       "<Figure size 432x288 with 1 Axes>"
      ]
     },
     "metadata": {
      "needs_background": "light"
     },
     "output_type": "display_data"
    }
   ],
   "source": [
    "sns.boxplot(x = df['TotalFloor'])"
   ]
  },
  {
   "cell_type": "code",
   "execution_count": 94,
   "id": "7934da8f",
   "metadata": {},
   "outputs": [
    {
     "data": {
      "text/plain": [
       "<AxesSubplot:xlabel='Sqft'>"
      ]
     },
     "execution_count": 94,
     "metadata": {},
     "output_type": "execute_result"
    },
    {
     "data": {
      "image/png": "[encoded data removed]",
      "text/plain": [
       "<Figure size 432x288 with 1 Axes>"
      ]
     },
     "metadata": {
      "needs_background": "light"
     },
     "output_type": "display_data"
    }
   ],
   "source": [
    "sns.boxplot(x = df['Sqft'])"
   ]
  },
  {
   "cell_type": "code",
   "execution_count": 95,
   "id": "84d80ae9",
   "metadata": {},
   "outputs": [],
   "source": [
    "#we could remove few outliers but due to less data we might lose accuracy of our model\n",
    "\n",
    "#lets create our regression model"
   ]
  },
  {
   "cell_type": "code",
   "execution_count": 130,
   "id": "ab413ee6",
   "metadata": {},
   "outputs": [],
   "source": [
    "X = df.drop('Price', axis = 1)\n",
    "y = df.Price\n",
    "\n",
    "from sklearn.preprocessing import StandardScaler\n",
    "scaler = StandardScaler()\n",
    "\n",
    "x_scaled = scaler.fit_transform(X)\n",
    "y_scaled = scaler.fit_transform(np.array(y).reshape(-1,1))"
   ]
  },
  {
   "cell_type": "code",
   "execution_count": 131,
   "id": "60f44e54",
   "metadata": {},
   "outputs": [],
   "source": [
    "#importing relevant libraries for our model\n",
    "\n",
    "from sklearn.linear_model import LinearRegression\n",
    "from sklearn.metrics import accuracy_score\n",
    "from sklearn.model_selection import train_test_split as tts"
   ]
  },
  {
   "cell_type": "code",
   "execution_count": 132,
   "id": "380ef147",
   "metadata": {},
   "outputs": [],
   "source": [
    "X_train, X_test, y_train, y_test = tts(x_scaled, y_scaled, test_size = 0.2, random_state = 42)\n",
    "\n",
    "my_model = LinearRegression()\n",
    "my_model.fit(X_train, y_train)\n",
    "\n",
    "preds = my_model.predict(X_test)"
   ]
  },
  {
   "cell_type": "code",
   "execution_count": 133,
   "id": "d06dac18",
   "metadata": {},
   "outputs": [
    {
     "data": {
      "text/plain": [
       "0.7205009707940984"
      ]
     },
     "execution_count": 133,
     "metadata": {},
     "output_type": "execute_result"
    }
   ],
   "source": [
    "my_model.score(X_test, y_test)"
   ]
  },
  {
   "cell_type": "code",
   "execution_count": 100,
   "id": "79f0604b",
   "metadata": {},
   "outputs": [],
   "source": [
    "#Thus we received 72% accuray for our model"
   ]
  },
  {
   "cell_type": "code",
   "execution_count": 393,
   "id": "0b370ba0",
   "metadata": {},
   "outputs": [],
   "source": [
    "## COMPLETED   !!!!!!!!!!!!!!!!"
   ]
  },
  {
   "cell_type": "code",
   "execution_count": null,
   "id": "8a12348c",
   "metadata": {},
   "outputs": [],
   "source": []
  },
  {
   "cell_type": "code",
   "execution_count": null,
   "id": "fda457ea",
   "metadata": {},
   "outputs": [],
   "source": []
  },
  {
   "cell_type": "code",
   "execution_count": null,
   "id": "ec6962d4",
   "metadata": {},
   "outputs": [],
   "source": []
  },
  {
   "cell_type": "code",
   "execution_count": null,
   "id": "744c14d6",
   "metadata": {},
   "outputs": [],
   "source": []
  },
  {
   "cell_type": "code",
   "execution_count": 318,
   "id": "8ff4a63c",
   "metadata": {},
   "outputs": [],
   "source": [
    "#Appendix let's try to create some DL model"
   ]
  },
  {
   "cell_type": "code",
   "execution_count": null,
   "id": "7db8355b",
   "metadata": {},
   "outputs": [],
   "source": []
  },
  {
   "cell_type": "code",
   "execution_count": null,
   "id": "7c7d2bca",
   "metadata": {},
   "outputs": [],
   "source": []
  },
  {
   "cell_type": "code",
   "execution_count": null,
   "id": "776f4aef",
   "metadata": {},
   "outputs": [],
   "source": []
  },
  {
   "cell_type": "code",
   "execution_count": 319,
   "id": "de35bac1",
   "metadata": {},
   "outputs": [
    {
     "name": "stdout",
     "output_type": "stream",
     "text": [
      "2.3.0\n"
     ]
    }
   ],
   "source": [
    "import pandas as pd\n",
    "import seaborn as sns\n",
    "\n",
    "import tensorflow as tf\n",
    "from tensorflow import keras\n",
    "from tensorflow.keras import layers\n",
    "\n",
    "print(tf.__version__)"
   ]
  },
  {
   "cell_type": "code",
   "execution_count": 320,
   "id": "75ad2972",
   "metadata": {},
   "outputs": [
    {
     "data": {
      "text/html": [
       "<div>\n",
       "<style scoped>\n",
       "    .dataframe tbody tr th:only-of-type {\n",
       "        vertical-align: middle;\n",
       "    }\n",
       "\n",
       "    .dataframe tbody tr th {\n",
       "        vertical-align: top;\n",
       "    }\n",
       "\n",
       "    .dataframe thead th {\n",
       "        text-align: right;\n",
       "    }\n",
       "</style>\n",
       "<table border=\"1\" class=\"dataframe\">\n",
       "  <thead>\n",
       "    <tr style=\"text-align: right;\">\n",
       "      <th></th>\n",
       "      <th>Unnamed: 0</th>\n",
       "      <th>Sqft</th>\n",
       "      <th>Floor</th>\n",
       "      <th>TotalFloor</th>\n",
       "      <th>Bedroom</th>\n",
       "      <th>Living.Room</th>\n",
       "      <th>Bathroom</th>\n",
       "      <th>Price</th>\n",
       "    </tr>\n",
       "  </thead>\n",
       "  <tbody>\n",
       "    <tr>\n",
       "      <th>640</th>\n",
       "      <td>644</td>\n",
       "      <td>1359.156</td>\n",
       "      <td>7</td>\n",
       "      <td>15</td>\n",
       "      <td>3</td>\n",
       "      <td>2</td>\n",
       "      <td>2</td>\n",
       "      <td>45000</td>\n",
       "    </tr>\n",
       "    <tr>\n",
       "      <th>641</th>\n",
       "      <td>645</td>\n",
       "      <td>377.148</td>\n",
       "      <td>4</td>\n",
       "      <td>10</td>\n",
       "      <td>1</td>\n",
       "      <td>1</td>\n",
       "      <td>1</td>\n",
       "      <td>24800</td>\n",
       "    </tr>\n",
       "    <tr>\n",
       "      <th>642</th>\n",
       "      <td>646</td>\n",
       "      <td>740.064</td>\n",
       "      <td>13</td>\n",
       "      <td>14</td>\n",
       "      <td>1</td>\n",
       "      <td>1</td>\n",
       "      <td>1</td>\n",
       "      <td>45000</td>\n",
       "    </tr>\n",
       "    <tr>\n",
       "      <th>643</th>\n",
       "      <td>647</td>\n",
       "      <td>1707.840</td>\n",
       "      <td>3</td>\n",
       "      <td>14</td>\n",
       "      <td>3</td>\n",
       "      <td>2</td>\n",
       "      <td>2</td>\n",
       "      <td>65000</td>\n",
       "    </tr>\n",
       "    <tr>\n",
       "      <th>644</th>\n",
       "      <td>648</td>\n",
       "      <td>1376.946</td>\n",
       "      <td>6</td>\n",
       "      <td>7</td>\n",
       "      <td>3</td>\n",
       "      <td>2</td>\n",
       "      <td>1</td>\n",
       "      <td>36000</td>\n",
       "    </tr>\n",
       "  </tbody>\n",
       "</table>\n",
       "</div>"
      ],
      "text/plain": [
       "     Unnamed: 0      Sqft  Floor  TotalFloor  Bedroom  Living.Room  Bathroom  \\\n",
       "640         644  1359.156      7          15        3            2         2   \n",
       "641         645   377.148      4          10        1            1         1   \n",
       "642         646   740.064     13          14        1            1         1   \n",
       "643         647  1707.840      3          14        3            2         2   \n",
       "644         648  1376.946      6           7        3            2         1   \n",
       "\n",
       "     Price  \n",
       "640  45000  \n",
       "641  24800  \n",
       "642  45000  \n",
       "643  65000  \n",
       "644  36000  "
      ]
     },
     "execution_count": 320,
     "metadata": {},
     "output_type": "execute_result"
    }
   ],
   "source": [
    "df = pd.read_csv('HouseRental.csv')\n",
    "df.tail()"
   ]
  },
  {
   "cell_type": "code",
   "execution_count": 321,
   "id": "1cbacd1f",
   "metadata": {},
   "outputs": [
    {
     "data": {
      "text/plain": [
       "Unnamed: 0     0\n",
       "Sqft           0\n",
       "Floor          0\n",
       "TotalFloor     0\n",
       "Bedroom        0\n",
       "Living.Room    0\n",
       "Bathroom       0\n",
       "Price          0\n",
       "dtype: int64"
      ]
     },
     "execution_count": 321,
     "metadata": {},
     "output_type": "execute_result"
    }
   ],
   "source": [
    "#cleaning data\n",
    "df.isna().sum()"
   ]
  },
  {
   "cell_type": "code",
   "execution_count": 322,
   "id": "e8e3099d",
   "metadata": {},
   "outputs": [
    {
     "data": {
      "text/plain": [
       "Unnamed: 0       int64\n",
       "Sqft           float64\n",
       "Floor            int64\n",
       "TotalFloor       int64\n",
       "Bedroom          int64\n",
       "Living.Room      int64\n",
       "Bathroom         int64\n",
       "Price            int64\n",
       "dtype: object"
      ]
     },
     "execution_count": 322,
     "metadata": {},
     "output_type": "execute_result"
    }
   ],
   "source": [
    "df.dtypes\n",
    "#there are no categorical values"
   ]
  },
  {
   "cell_type": "code",
   "execution_count": 323,
   "id": "6bfdd976",
   "metadata": {},
   "outputs": [
    {
     "data": {
      "text/plain": [
       "Unnamed: 0    -0.077512\n",
       "Sqft           0.825514\n",
       "Floor          0.244553\n",
       "TotalFloor     0.333631\n",
       "Bedroom        0.467059\n",
       "Living.Room    0.328788\n",
       "Bathroom       0.605542\n",
       "Price          1.000000\n",
       "Name: Price, dtype: float64"
      ]
     },
     "execution_count": 323,
     "metadata": {},
     "output_type": "execute_result"
    }
   ],
   "source": [
    "df.corr()['Price']"
   ]
  },
  {
   "cell_type": "code",
   "execution_count": 324,
   "id": "b2d898bd",
   "metadata": {},
   "outputs": [
    {
     "data": {
      "text/plain": [
       "<AxesSubplot:xlabel='Price'>"
      ]
     },
     "execution_count": 324,
     "metadata": {},
     "output_type": "execute_result"
    },
    {
     "data": {
      "image/png": "[encoded data removed]",
      "text/plain": [
       "<Figure size 432x288 with 1 Axes>"
      ]
     },
     "metadata": {
      "needs_background": "light"
     },
     "output_type": "display_data"
    }
   ],
   "source": [
    "sns.boxplot(x = df['Price'])"
   ]
  },
  {
   "cell_type": "code",
   "execution_count": 325,
   "id": "eadc7ee7",
   "metadata": {},
   "outputs": [],
   "source": [
    "df = df[df['Price']<= 200000]\n"
   ]
  },
  {
   "cell_type": "code",
   "execution_count": 326,
   "id": "3c8bfa01",
   "metadata": {},
   "outputs": [],
   "source": [
    "df.drop('Unnamed: 0', axis = 1, inplace = True)\n",
    "\n",
    "#let's split data into train and test\n",
    "\n",
    "train = df.sample(frac = 0.8, random_state = 0)\n",
    "test = df.drop(train.index)"
   ]
  },
  {
   "cell_type": "code",
   "execution_count": 205,
   "id": "195cc545",
   "metadata": {},
   "outputs": [
    {
     "data": {
      "text/plain": [
       "((516, 7), (129, 7))"
      ]
     },
     "execution_count": 205,
     "metadata": {},
     "output_type": "execute_result"
    }
   ],
   "source": [
    "train.shape, test.shape"
   ]
  },
  {
   "cell_type": "code",
   "execution_count": 109,
   "id": "896bb02a",
   "metadata": {},
   "outputs": [
    {
     "data": {
      "text/plain": [
       "<seaborn.axisgrid.PairGrid at 0x1f5c560310>"
      ]
     },
     "execution_count": 109,
     "metadata": {},
     "output_type": "execute_result"
    },
    {
     "data": {
      "image/png": "[encoded data removed]",
      "text/plain": [
       "<Figure size 1080x1080 with 42 Axes>"
      ]
     },
     "metadata": {
      "needs_background": "light"
     },
     "output_type": "display_data"
    }
   ],
   "source": [
    "sns.pairplot(train[['Sqft', 'Floor', 'TotalFloor', 'Bedroom', 'Living.Room', 'Bathroom']], diag_kind = 'kde')"
   ]
  },
  {
   "cell_type": "code",
   "execution_count": 327,
   "id": "595dea99",
   "metadata": {
    "scrolled": false
   },
   "outputs": [
    {
     "data": {
      "text/html": [
       "<div>\n",
       "<style scoped>\n",
       "    .dataframe tbody tr th:only-of-type {\n",
       "        vertical-align: middle;\n",
       "    }\n",
       "\n",
       "    .dataframe tbody tr th {\n",
       "        vertical-align: top;\n",
       "    }\n",
       "\n",
       "    .dataframe thead th {\n",
       "        text-align: right;\n",
       "    }\n",
       "</style>\n",
       "<table border=\"1\" class=\"dataframe\">\n",
       "  <thead>\n",
       "    <tr style=\"text-align: right;\">\n",
       "      <th></th>\n",
       "      <th>count</th>\n",
       "      <th>mean</th>\n",
       "      <th>std</th>\n",
       "      <th>min</th>\n",
       "      <th>25%</th>\n",
       "      <th>50%</th>\n",
       "      <th>75%</th>\n",
       "      <th>max</th>\n",
       "    </tr>\n",
       "  </thead>\n",
       "  <tbody>\n",
       "    <tr>\n",
       "      <th>Sqft</th>\n",
       "      <td>514.0</td>\n",
       "      <td>1525.848992</td>\n",
       "      <td>777.224859</td>\n",
       "      <td>359.358</td>\n",
       "      <td>925.08</td>\n",
       "      <td>1423.2</td>\n",
       "      <td>1908.867</td>\n",
       "      <td>5856.468</td>\n",
       "    </tr>\n",
       "    <tr>\n",
       "      <th>Floor</th>\n",
       "      <td>514.0</td>\n",
       "      <td>6.042802</td>\n",
       "      <td>3.904079</td>\n",
       "      <td>1.000</td>\n",
       "      <td>3.00</td>\n",
       "      <td>5.0</td>\n",
       "      <td>8.000</td>\n",
       "      <td>22.000</td>\n",
       "    </tr>\n",
       "    <tr>\n",
       "      <th>TotalFloor</th>\n",
       "      <td>514.0</td>\n",
       "      <td>10.941634</td>\n",
       "      <td>4.892260</td>\n",
       "      <td>1.000</td>\n",
       "      <td>7.00</td>\n",
       "      <td>12.0</td>\n",
       "      <td>14.000</td>\n",
       "      <td>27.000</td>\n",
       "    </tr>\n",
       "    <tr>\n",
       "      <th>Bedroom</th>\n",
       "      <td>514.0</td>\n",
       "      <td>2.817121</td>\n",
       "      <td>1.013370</td>\n",
       "      <td>1.000</td>\n",
       "      <td>2.00</td>\n",
       "      <td>3.0</td>\n",
       "      <td>4.000</td>\n",
       "      <td>7.000</td>\n",
       "    </tr>\n",
       "    <tr>\n",
       "      <th>Living.Room</th>\n",
       "      <td>514.0</td>\n",
       "      <td>1.815175</td>\n",
       "      <td>0.466085</td>\n",
       "      <td>0.000</td>\n",
       "      <td>2.00</td>\n",
       "      <td>2.0</td>\n",
       "      <td>2.000</td>\n",
       "      <td>4.000</td>\n",
       "    </tr>\n",
       "    <tr>\n",
       "      <th>Bathroom</th>\n",
       "      <td>514.0</td>\n",
       "      <td>1.795720</td>\n",
       "      <td>0.674733</td>\n",
       "      <td>0.000</td>\n",
       "      <td>1.00</td>\n",
       "      <td>2.0</td>\n",
       "      <td>2.000</td>\n",
       "      <td>5.000</td>\n",
       "    </tr>\n",
       "  </tbody>\n",
       "</table>\n",
       "</div>"
      ],
      "text/plain": [
       "             count         mean         std      min     25%     50%  \\\n",
       "Sqft         514.0  1525.848992  777.224859  359.358  925.08  1423.2   \n",
       "Floor        514.0     6.042802    3.904079    1.000    3.00     5.0   \n",
       "TotalFloor   514.0    10.941634    4.892260    1.000    7.00    12.0   \n",
       "Bedroom      514.0     2.817121    1.013370    1.000    2.00     3.0   \n",
       "Living.Room  514.0     1.815175    0.466085    0.000    2.00     2.0   \n",
       "Bathroom     514.0     1.795720    0.674733    0.000    1.00     2.0   \n",
       "\n",
       "                  75%       max  \n",
       "Sqft         1908.867  5856.468  \n",
       "Floor           8.000    22.000  \n",
       "TotalFloor     14.000    27.000  \n",
       "Bedroom         4.000     7.000  \n",
       "Living.Room     2.000     4.000  \n",
       "Bathroom        2.000     5.000  "
      ]
     },
     "execution_count": 327,
     "metadata": {},
     "output_type": "execute_result"
    }
   ],
   "source": [
    "train_stats = train.describe()\n",
    "train_stats.drop('Price', axis = 1, inplace= True)\n",
    "train_stats = train_stats.transpose()\n",
    "train_stats"
   ]
  },
  {
   "cell_type": "code",
   "execution_count": 328,
   "id": "e890056a",
   "metadata": {},
   "outputs": [],
   "source": [
    "train_labels = train.pop('Price')\n",
    "test_labels = test.pop('Price')"
   ]
  },
  {
   "cell_type": "code",
   "execution_count": 329,
   "id": "d8fb26e7",
   "metadata": {
    "scrolled": true
   },
   "outputs": [],
   "source": [
    "# since ranges of our features are very varied we need to normalise the data"
   ]
  },
  {
   "cell_type": "code",
   "execution_count": 330,
   "id": "7430788e",
   "metadata": {},
   "outputs": [],
   "source": [
    "def norm(x):\n",
    "    return(x - train_stats['mean']) / train_stats['std']\n",
    "\n",
    "norm_train = norm(train) \n",
    "norm_test = norm(test)"
   ]
  },
  {
   "cell_type": "code",
   "execution_count": 331,
   "id": "5bed7b4b",
   "metadata": {},
   "outputs": [],
   "source": [
    "#Building model\n",
    "\n",
    "my_model = keras.Sequential([\n",
    "    layers.Dense(20, activation = tf.nn.relu, input_shape = [len(train.keys())]),\n",
    "    layers.Dense(20, activation = tf.nn.relu),\n",
    "    layers.Dense(1)\n",
    "])\n",
    "\n",
    "OPTIMIZER = tf.keras.optimizers.RMSprop(0.001)\n",
    "\n",
    "my_model.compile(\n",
    "    \n",
    "    loss = 'mse',\n",
    "    optimizer = OPTIMIZER,\n",
    "    metrics = ['mae', 'mse']\n",
    ")\n"
   ]
  },
  {
   "cell_type": "code",
   "execution_count": 332,
   "id": "5010830f",
   "metadata": {},
   "outputs": [
    {
     "name": "stdout",
     "output_type": "stream",
     "text": [
      "Model: \"sequential_13\"\n",
      "_________________________________________________________________\n",
      "Layer (type)                 Output Shape              Param #   \n",
      "=================================================================\n",
      "dense_40 (Dense)             (None, 20)                140       \n",
      "_________________________________________________________________\n",
      "dense_41 (Dense)             (None, 20)                420       \n",
      "_________________________________________________________________\n",
      "dense_42 (Dense)             (None, 1)                 21        \n",
      "=================================================================\n",
      "Total params: 581\n",
      "Trainable params: 581\n",
      "Non-trainable params: 0\n",
      "_________________________________________________________________\n"
     ]
    }
   ],
   "source": [
    "my_model.summary()"
   ]
  },
  {
   "cell_type": "code",
   "execution_count": 272,
   "id": "f85ab64c",
   "metadata": {},
   "outputs": [
    {
     "data": {
      "text/plain": [
       "array([[-0.09693679],\n",
       "       [-0.47971478],\n",
       "       [-0.36448008],\n",
       "       [-0.20587835],\n",
       "       [-0.22599584],\n",
       "       [-0.13586204],\n",
       "       [-0.6785592 ],\n",
       "       [-0.385278  ],\n",
       "       [-0.33250642],\n",
       "       [-0.10200521]], dtype=float32)"
      ]
     },
     "execution_count": 272,
     "metadata": {},
     "output_type": "execute_result"
    }
   ],
   "source": [
    "#This is just a demo to check if or model is working properly or not !\n",
    "\n",
    "example_batch = norm_train[:10]\n",
    "example_result = my_model.predict(example_batch)\n",
    "example_result"
   ]
  },
  {
   "cell_type": "code",
   "execution_count": 227,
   "id": "b5c5bb01",
   "metadata": {},
   "outputs": [],
   "source": [
    "#lets train our model\n",
    "\n",
    "EPOCHS = 1000\n",
    "\n",
    "history = my_model.fit(\n",
    "    norm_train, train_labels, epochs = EPOCHS, validation_split = 0.2,\n",
    "    verbose = 0 \n",
    ")"
   ]
  },
  {
   "cell_type": "code",
   "execution_count": 228,
   "id": "62372c3e",
   "metadata": {},
   "outputs": [
    {
     "data": {
      "text/html": [
       "<div>\n",
       "<style scoped>\n",
       "    .dataframe tbody tr th:only-of-type {\n",
       "        vertical-align: middle;\n",
       "    }\n",
       "\n",
       "    .dataframe tbody tr th {\n",
       "        vertical-align: top;\n",
       "    }\n",
       "\n",
       "    .dataframe thead th {\n",
       "        text-align: right;\n",
       "    }\n",
       "</style>\n",
       "<table border=\"1\" class=\"dataframe\">\n",
       "  <thead>\n",
       "    <tr style=\"text-align: right;\">\n",
       "      <th></th>\n",
       "      <th>loss</th>\n",
       "      <th>mae</th>\n",
       "      <th>mse</th>\n",
       "      <th>val_loss</th>\n",
       "      <th>val_mae</th>\n",
       "      <th>val_mse</th>\n",
       "      <th>epoch</th>\n",
       "    </tr>\n",
       "  </thead>\n",
       "  <tbody>\n",
       "    <tr>\n",
       "      <th>995</th>\n",
       "      <td>347552320.0</td>\n",
       "      <td>13434.054688</td>\n",
       "      <td>347552320.0</td>\n",
       "      <td>474827776.0</td>\n",
       "      <td>14375.464844</td>\n",
       "      <td>474827776.0</td>\n",
       "      <td>995</td>\n",
       "    </tr>\n",
       "    <tr>\n",
       "      <th>996</th>\n",
       "      <td>347404096.0</td>\n",
       "      <td>13441.638672</td>\n",
       "      <td>347404096.0</td>\n",
       "      <td>474291840.0</td>\n",
       "      <td>14361.656250</td>\n",
       "      <td>474291840.0</td>\n",
       "      <td>996</td>\n",
       "    </tr>\n",
       "    <tr>\n",
       "      <th>997</th>\n",
       "      <td>347460416.0</td>\n",
       "      <td>13438.763672</td>\n",
       "      <td>347460416.0</td>\n",
       "      <td>474432640.0</td>\n",
       "      <td>14365.705078</td>\n",
       "      <td>474432640.0</td>\n",
       "      <td>997</td>\n",
       "    </tr>\n",
       "    <tr>\n",
       "      <th>998</th>\n",
       "      <td>347682720.0</td>\n",
       "      <td>13442.613281</td>\n",
       "      <td>347682720.0</td>\n",
       "      <td>474096192.0</td>\n",
       "      <td>14361.449219</td>\n",
       "      <td>474096192.0</td>\n",
       "      <td>998</td>\n",
       "    </tr>\n",
       "    <tr>\n",
       "      <th>999</th>\n",
       "      <td>347447008.0</td>\n",
       "      <td>13424.043945</td>\n",
       "      <td>347447008.0</td>\n",
       "      <td>474133536.0</td>\n",
       "      <td>14362.656250</td>\n",
       "      <td>474133536.0</td>\n",
       "      <td>999</td>\n",
       "    </tr>\n",
       "  </tbody>\n",
       "</table>\n",
       "</div>"
      ],
      "text/plain": [
       "            loss           mae          mse     val_loss       val_mae  \\\n",
       "995  347552320.0  13434.054688  347552320.0  474827776.0  14375.464844   \n",
       "996  347404096.0  13441.638672  347404096.0  474291840.0  14361.656250   \n",
       "997  347460416.0  13438.763672  347460416.0  474432640.0  14365.705078   \n",
       "998  347682720.0  13442.613281  347682720.0  474096192.0  14361.449219   \n",
       "999  347447008.0  13424.043945  347447008.0  474133536.0  14362.656250   \n",
       "\n",
       "         val_mse  epoch  \n",
       "995  474827776.0    995  \n",
       "996  474291840.0    996  \n",
       "997  474432640.0    997  \n",
       "998  474096192.0    998  \n",
       "999  474133536.0    999  "
      ]
     },
     "execution_count": 228,
     "metadata": {},
     "output_type": "execute_result"
    }
   ],
   "source": [
    "hist = pd.DataFrame(history.history)\n",
    "hist['epoch'] = history.epoch\n",
    "hist.tail()"
   ]
  },
  {
   "cell_type": "code",
   "execution_count": 229,
   "id": "a7d304ce",
   "metadata": {},
   "outputs": [
    {
     "data": {
      "image/png": "[encoded data removed]",
      "text/plain": [
       "<Figure size 432x288 with 1 Axes>"
      ]
     },
     "metadata": {
      "needs_background": "light"
     },
     "output_type": "display_data"
    },
    {
     "data": {
      "image/png": "[encoded data removed]",
      "text/plain": [
       "<Figure size 432x288 with 1 Axes>"
      ]
     },
     "metadata": {
      "needs_background": "light"
     },
     "output_type": "display_data"
    }
   ],
   "source": [
    "#Plotting history helps us all the time\n",
    "\n",
    "def plot_history(history):\n",
    "    \n",
    "    hist = pd.DataFrame(history.history)\n",
    "    hist['epoch'] = history.epoch\n",
    "    \n",
    "    plt.figure()\n",
    "    plt.xlabel('Epoch')\n",
    "    plt.ylabel('MAE')\n",
    "    plt.plot(hist['epoch'], hist['mae'], label = 'Train Error')\n",
    "    plt.plot(hist['epoch'], hist['val_mae'], label = 'Validation Error')\n",
    "    plt.legend()\n",
    "    \n",
    "    plt.figure()\n",
    "    plt.xlabel('Epoch')\n",
    "    plt.ylabel('MSE')\n",
    "    plt.plot(hist['epoch'], hist['mse'], label = 'Train Error')\n",
    "    plt.plot(hist['epoch'], hist['val_mse'], label = 'Validation Error')\n",
    "    plt.legend()\n",
    "    \n",
    "plot_history(history)"
   ]
  },
  {
   "cell_type": "code",
   "execution_count": 333,
   "id": "18f57f00",
   "metadata": {},
   "outputs": [],
   "source": [
    "#We can see that validation error is increasing but training loss is decreasing\n",
    "\n",
    "#THIS IS CLASSIC OVERFITTING !!!\n",
    "\n",
    "#so we need to cut off the epochs when validation seems to increase in consecutive iterations\n",
    "\n",
    "#Let's set the callback for our model"
   ]
  },
  {
   "cell_type": "code",
   "execution_count": 348,
   "id": "a9c4a65e",
   "metadata": {},
   "outputs": [
    {
     "name": "stdout",
     "output_type": "stream",
     "text": [
      "Epoch 1/1000\n",
      "26/26 [==============================] - 0s 8ms/step - loss: 372599840.0000 - mae: 14117.2236 - mse: 372599840.0000 - val_loss: 384008960.0000 - val_mae: 14047.0518 - val_mse: 384008960.0000\n",
      "Epoch 2/1000\n",
      "26/26 [==============================] - 0s 5ms/step - loss: 372448544.0000 - mae: 14109.7275 - mse: 372448544.0000 - val_loss: 383491744.0000 - val_mae: 14033.5801 - val_mse: 383491744.0000\n",
      "Epoch 3/1000\n",
      "26/26 [==============================] - 0s 6ms/step - loss: 371969984.0000 - mae: 14095.1377 - mse: 371969984.0000 - val_loss: 383170784.0000 - val_mae: 14030.3203 - val_mse: 383170784.0000\n",
      "Epoch 4/1000\n",
      "26/26 [==============================] - 0s 6ms/step - loss: 371775488.0000 - mae: 14091.8604 - mse: 371775488.0000 - val_loss: 382835136.0000 - val_mae: 14025.4658 - val_mse: 382835136.0000\n",
      "Epoch 5/1000\n",
      "26/26 [==============================] - 0s 5ms/step - loss: 371604192.0000 - mae: 14091.2969 - mse: 371604192.0000 - val_loss: 382488544.0000 - val_mae: 14020.5342 - val_mse: 382488544.0000\n",
      "Epoch 6/1000\n",
      "26/26 [==============================] - 0s 6ms/step - loss: 371295040.0000 - mae: 14079.3115 - mse: 371295040.0000 - val_loss: 382247744.0000 - val_mae: 14018.0205 - val_mse: 382247744.0000\n",
      "Epoch 7/1000\n",
      "26/26 [==============================] - 0s 5ms/step - loss: 371050080.0000 - mae: 14087.4326 - mse: 371050080.0000 - val_loss: 382012992.0000 - val_mae: 14017.2803 - val_mse: 382012992.0000\n",
      "Epoch 8/1000\n",
      "26/26 [==============================] - 0s 6ms/step - loss: 370728256.0000 - mae: 14084.8828 - mse: 370728256.0000 - val_loss: 381671296.0000 - val_mae: 14012.2197 - val_mse: 381671296.0000\n",
      "Epoch 9/1000\n",
      "26/26 [==============================] - 0s 5ms/step - loss: 370596288.0000 - mae: 14084.8330 - mse: 370596288.0000 - val_loss: 381305856.0000 - val_mae: 14007.4893 - val_mse: 381305856.0000\n",
      "Epoch 10/1000\n",
      "26/26 [==============================] - 0s 5ms/step - loss: 370258944.0000 - mae: 14073.1572 - mse: 370258944.0000 - val_loss: 381028288.0000 - val_mae: 14002.2266 - val_mse: 381028288.0000\n",
      "Epoch 11/1000\n",
      "26/26 [==============================] - 0s 7ms/step - loss: 370026304.0000 - mae: 14060.1201 - mse: 370026304.0000 - val_loss: 380702560.0000 - val_mae: 13997.5732 - val_mse: 380702560.0000\n",
      "Epoch 12/1000\n",
      "26/26 [==============================] - 0s 6ms/step - loss: 369768992.0000 - mae: 14048.3115 - mse: 369768992.0000 - val_loss: 380436832.0000 - val_mae: 13995.5664 - val_mse: 380436832.0000\n",
      "Epoch 13/1000\n",
      "26/26 [==============================] - 0s 5ms/step - loss: 369495872.0000 - mae: 14055.7197 - mse: 369495872.0000 - val_loss: 380127168.0000 - val_mae: 13991.6602 - val_mse: 380127168.0000\n",
      "Epoch 14/1000\n",
      "26/26 [==============================] - 0s 5ms/step - loss: 369266368.0000 - mae: 14048.6777 - mse: 369266368.0000 - val_loss: 379761312.0000 - val_mae: 13987.5684 - val_mse: 379761312.0000\n",
      "Epoch 15/1000\n",
      "26/26 [==============================] - 0s 5ms/step - loss: 369007456.0000 - mae: 14036.9404 - mse: 369007456.0000 - val_loss: 379575712.0000 - val_mae: 13986.4336 - val_mse: 379575712.0000\n",
      "Epoch 16/1000\n",
      "26/26 [==============================] - 0s 5ms/step - loss: 368763808.0000 - mae: 14029.0791 - mse: 368763808.0000 - val_loss: 379336896.0000 - val_mae: 13983.3965 - val_mse: 379336896.0000\n",
      "Epoch 17/1000\n",
      "26/26 [==============================] - 0s 6ms/step - loss: 368488352.0000 - mae: 14036.2080 - mse: 368488352.0000 - val_loss: 379168544.0000 - val_mae: 13983.1738 - val_mse: 379168544.0000\n",
      "Epoch 18/1000\n",
      "26/26 [==============================] - 0s 5ms/step - loss: 368345440.0000 - mae: 14036.2129 - mse: 368345440.0000 - val_loss: 378911968.0000 - val_mae: 13980.3809 - val_mse: 378911968.0000\n",
      "Epoch 19/1000\n",
      "26/26 [==============================] - 0s 6ms/step - loss: 368053888.0000 - mae: 14029.8447 - mse: 368053888.0000 - val_loss: 378589568.0000 - val_mae: 13976.3164 - val_mse: 378589568.0000\n",
      "Epoch 20/1000\n",
      "26/26 [==============================] - 0s 6ms/step - loss: 367879968.0000 - mae: 14025.6846 - mse: 367879968.0000 - val_loss: 378479520.0000 - val_mae: 13975.6465 - val_mse: 378479520.0000\n",
      "Epoch 21/1000\n",
      "26/26 [==============================] - 0s 5ms/step - loss: 367545536.0000 - mae: 14028.9287 - mse: 367545536.0000 - val_loss: 378099904.0000 - val_mae: 13966.3418 - val_mse: 378099904.0000\n",
      "Epoch 22/1000\n",
      "26/26 [==============================] - 0s 5ms/step - loss: 367396064.0000 - mae: 14017.5732 - mse: 367396064.0000 - val_loss: 377708896.0000 - val_mae: 13960.9268 - val_mse: 377708896.0000\n",
      "Epoch 23/1000\n",
      "26/26 [==============================] - 0s 5ms/step - loss: 367169536.0000 - mae: 14010.3848 - mse: 367169536.0000 - val_loss: 377398912.0000 - val_mae: 13956.6406 - val_mse: 377398912.0000\n",
      "Epoch 24/1000\n",
      "26/26 [==============================] - 0s 5ms/step - loss: 367003200.0000 - mae: 14006.4785 - mse: 367003200.0000 - val_loss: 377072128.0000 - val_mae: 13950.3613 - val_mse: 377072128.0000\n",
      "Epoch 25/1000\n",
      "26/26 [==============================] - 0s 5ms/step - loss: 366794432.0000 - mae: 13994.7988 - mse: 366794432.0000 - val_loss: 376719136.0000 - val_mae: 13943.2637 - val_mse: 376719136.0000\n",
      "Epoch 26/1000\n",
      "26/26 [==============================] - 0s 6ms/step - loss: 366561632.0000 - mae: 13991.3809 - mse: 366561632.0000 - val_loss: 376479584.0000 - val_mae: 13941.7666 - val_mse: 376479584.0000\n",
      "Epoch 27/1000\n",
      "26/26 [==============================] - 0s 5ms/step - loss: 366350944.0000 - mae: 13993.2725 - mse: 366350944.0000 - val_loss: 376254688.0000 - val_mae: 13939.4082 - val_mse: 376254688.0000\n",
      "Epoch 28/1000\n",
      "26/26 [==============================] - 0s 5ms/step - loss: 366064832.0000 - mae: 13988.2432 - mse: 366064832.0000 - val_loss: 375924384.0000 - val_mae: 13935.0352 - val_mse: 375924384.0000\n",
      "Epoch 29/1000\n",
      "26/26 [==============================] - 0s 5ms/step - loss: 365908096.0000 - mae: 13980.8057 - mse: 365908096.0000 - val_loss: 375764576.0000 - val_mae: 13936.3135 - val_mse: 375764576.0000\n",
      "Epoch 30/1000\n",
      "26/26 [==============================] - 0s 6ms/step - loss: 365675648.0000 - mae: 13979.6914 - mse: 365675648.0000 - val_loss: 375497216.0000 - val_mae: 13934.3633 - val_mse: 375497216.0000\n",
      "Epoch 31/1000\n",
      "26/26 [==============================] - 0s 6ms/step - loss: 365463936.0000 - mae: 13982.8281 - mse: 365463936.0000 - val_loss: 375220992.0000 - val_mae: 13929.1504 - val_mse: 375220992.0000\n",
      "Epoch 32/1000\n",
      "26/26 [==============================] - 0s 6ms/step - loss: 365233728.0000 - mae: 13977.9141 - mse: 365233728.0000 - val_loss: 375016640.0000 - val_mae: 13927.0645 - val_mse: 375016640.0000\n",
      "Epoch 33/1000\n",
      "26/26 [==============================] - 0s 6ms/step - loss: 365044960.0000 - mae: 13964.1475 - mse: 365044960.0000 - val_loss: 374771360.0000 - val_mae: 13923.9814 - val_mse: 374771360.0000\n",
      "Epoch 34/1000\n",
      "26/26 [==============================] - 0s 5ms/step - loss: 364814560.0000 - mae: 13966.4209 - mse: 364814560.0000 - val_loss: 374557024.0000 - val_mae: 13922.3135 - val_mse: 374557024.0000\n",
      "Epoch 35/1000\n",
      "26/26 [==============================] - 0s 5ms/step - loss: 364720480.0000 - mae: 13959.7119 - mse: 364720480.0000 - val_loss: 374277600.0000 - val_mae: 13916.9219 - val_mse: 374277600.0000\n",
      "Epoch 36/1000\n",
      "26/26 [==============================] - 0s 6ms/step - loss: 364466944.0000 - mae: 13957.3008 - mse: 364466944.0000 - val_loss: 374095648.0000 - val_mae: 13914.4688 - val_mse: 374095648.0000\n",
      "Epoch 37/1000\n",
      "26/26 [==============================] - 0s 6ms/step - loss: 364263872.0000 - mae: 13965.6494 - mse: 364263872.0000 - val_loss: 373726304.0000 - val_mae: 13907.3154 - val_mse: 373726304.0000\n",
      "Epoch 38/1000\n",
      "26/26 [==============================] - 0s 5ms/step - loss: 364094848.0000 - mae: 13955.4697 - mse: 364094848.0000 - val_loss: 373445536.0000 - val_mae: 13900.7490 - val_mse: 373445536.0000\n",
      "Epoch 39/1000\n",
      "26/26 [==============================] - 0s 5ms/step - loss: 363827776.0000 - mae: 13933.1094 - mse: 363827776.0000 - val_loss: 373281056.0000 - val_mae: 13900.7803 - val_mse: 373281056.0000\n",
      "Epoch 40/1000\n",
      "26/26 [==============================] - 0s 5ms/step - loss: 363698304.0000 - mae: 13939.7295 - mse: 363698304.0000 - val_loss: 373015488.0000 - val_mae: 13894.9141 - val_mse: 373015488.0000\n",
      "Epoch 41/1000\n"
     ]
    },
    {
     "name": "stdout",
     "output_type": "stream",
     "text": [
      "26/26 [==============================] - 0s 7ms/step - loss: 363529344.0000 - mae: 13930.8711 - mse: 363529344.0000 - val_loss: 372851520.0000 - val_mae: 13894.0732 - val_mse: 372851520.0000\n",
      "Epoch 42/1000\n",
      "26/26 [==============================] - 0s 6ms/step - loss: 363390112.0000 - mae: 13939.5234 - mse: 363390112.0000 - val_loss: 372703872.0000 - val_mae: 13892.9414 - val_mse: 372703872.0000\n",
      "Epoch 43/1000\n",
      "26/26 [==============================] - 0s 5ms/step - loss: 363126112.0000 - mae: 13928.4639 - mse: 363126112.0000 - val_loss: 372555648.0000 - val_mae: 13893.9980 - val_mse: 372555648.0000\n",
      "Epoch 44/1000\n",
      "26/26 [==============================] - 0s 6ms/step - loss: 363029888.0000 - mae: 13932.8271 - mse: 363029888.0000 - val_loss: 372367712.0000 - val_mae: 13891.1416 - val_mse: 372367712.0000\n",
      "Epoch 45/1000\n",
      "26/26 [==============================] - 0s 5ms/step - loss: 362699904.0000 - mae: 13912.0488 - mse: 362699904.0000 - val_loss: 372315232.0000 - val_mae: 13896.1299 - val_mse: 372315232.0000\n",
      "Epoch 46/1000\n",
      "26/26 [==============================] - 0s 5ms/step - loss: 362631104.0000 - mae: 13931.3818 - mse: 362631104.0000 - val_loss: 372158688.0000 - val_mae: 13893.0488 - val_mse: 372158688.0000\n",
      "Epoch 47/1000\n",
      "26/26 [==============================] - 0s 4ms/step - loss: 362388960.0000 - mae: 13919.0381 - mse: 362388960.0000 - val_loss: 371882720.0000 - val_mae: 13888.2314 - val_mse: 371882720.0000\n",
      "Epoch 48/1000\n",
      "26/26 [==============================] - 0s 5ms/step - loss: 362340128.0000 - mae: 13914.6689 - mse: 362340128.0000 - val_loss: 371622656.0000 - val_mae: 13881.3262 - val_mse: 371622656.0000\n",
      "Epoch 49/1000\n",
      "26/26 [==============================] - 0s 5ms/step - loss: 362110592.0000 - mae: 13908.6348 - mse: 362110592.0000 - val_loss: 371353184.0000 - val_mae: 13875.5947 - val_mse: 371353184.0000\n",
      "Epoch 50/1000\n",
      "26/26 [==============================] - 0s 5ms/step - loss: 361970944.0000 - mae: 13896.7979 - mse: 361970944.0000 - val_loss: 371162528.0000 - val_mae: 13872.2998 - val_mse: 371162528.0000\n",
      "Epoch 51/1000\n",
      "26/26 [==============================] - 0s 5ms/step - loss: 361781952.0000 - mae: 13901.2822 - mse: 361781952.0000 - val_loss: 370928832.0000 - val_mae: 13869.2314 - val_mse: 370928832.0000\n",
      "Epoch 52/1000\n",
      "26/26 [==============================] - 0s 5ms/step - loss: 361614016.0000 - mae: 13888.8584 - mse: 361614016.0000 - val_loss: 370777248.0000 - val_mae: 13866.8457 - val_mse: 370777248.0000\n",
      "Epoch 53/1000\n",
      "26/26 [==============================] - 0s 5ms/step - loss: 361492416.0000 - mae: 13890.2510 - mse: 361492416.0000 - val_loss: 370521760.0000 - val_mae: 13861.9639 - val_mse: 370521760.0000\n",
      "Epoch 54/1000\n",
      "26/26 [==============================] - 0s 5ms/step - loss: 361331552.0000 - mae: 13879.8604 - mse: 361331552.0000 - val_loss: 370424160.0000 - val_mae: 13862.8311 - val_mse: 370424160.0000\n",
      "Epoch 55/1000\n",
      "26/26 [==============================] - 0s 5ms/step - loss: 361086528.0000 - mae: 13877.6201 - mse: 361086528.0000 - val_loss: 370288992.0000 - val_mae: 13863.3408 - val_mse: 370288992.0000\n",
      "Epoch 56/1000\n",
      "26/26 [==============================] - 0s 5ms/step - loss: 361049216.0000 - mae: 13876.1416 - mse: 361049216.0000 - val_loss: 370150240.0000 - val_mae: 13861.7812 - val_mse: 370150240.0000\n",
      "Epoch 57/1000\n",
      "26/26 [==============================] - 0s 5ms/step - loss: 360845760.0000 - mae: 13885.9053 - mse: 360845760.0000 - val_loss: 369898848.0000 - val_mae: 13857.6289 - val_mse: 369898848.0000\n",
      "Epoch 58/1000\n",
      "26/26 [==============================] - 0s 5ms/step - loss: 360727136.0000 - mae: 13871.6318 - mse: 360727136.0000 - val_loss: 369689664.0000 - val_mae: 13853.2168 - val_mse: 369689664.0000\n",
      "Epoch 59/1000\n",
      "26/26 [==============================] - 0s 5ms/step - loss: 360487904.0000 - mae: 13868.6533 - mse: 360487904.0000 - val_loss: 369548000.0000 - val_mae: 13849.6758 - val_mse: 369548000.0000\n",
      "Epoch 60/1000\n",
      "26/26 [==============================] - 0s 5ms/step - loss: 360345696.0000 - mae: 13879.2119 - mse: 360345696.0000 - val_loss: 369373728.0000 - val_mae: 13847.7695 - val_mse: 369373728.0000\n",
      "Epoch 61/1000\n",
      "26/26 [==============================] - 0s 5ms/step - loss: 360171936.0000 - mae: 13848.7080 - mse: 360171936.0000 - val_loss: 369388096.0000 - val_mae: 13851.2080 - val_mse: 369388096.0000\n",
      "Epoch 62/1000\n",
      "26/26 [==============================] - 0s 5ms/step - loss: 359982208.0000 - mae: 13863.2109 - mse: 359982208.0000 - val_loss: 369237408.0000 - val_mae: 13848.3330 - val_mse: 369237408.0000\n",
      "Epoch 63/1000\n",
      "26/26 [==============================] - 0s 6ms/step - loss: 359938912.0000 - mae: 13858.2578 - mse: 359938912.0000 - val_loss: 369098528.0000 - val_mae: 13844.9082 - val_mse: 369098528.0000\n",
      "Epoch 64/1000\n",
      "26/26 [==============================] - 0s 5ms/step - loss: 359780736.0000 - mae: 13850.6387 - mse: 359780736.0000 - val_loss: 368925120.0000 - val_mae: 13840.2510 - val_mse: 368925120.0000\n",
      "Epoch 65/1000\n",
      "26/26 [==============================] - 0s 5ms/step - loss: 359671904.0000 - mae: 13853.4395 - mse: 359671904.0000 - val_loss: 368962656.0000 - val_mae: 13844.1094 - val_mse: 368962656.0000\n",
      "Epoch 66/1000\n",
      "26/26 [==============================] - 0s 5ms/step - loss: 359453120.0000 - mae: 13851.7012 - mse: 359453120.0000 - val_loss: 368627776.0000 - val_mae: 13836.6445 - val_mse: 368627776.0000\n",
      "Epoch 67/1000\n",
      "26/26 [==============================] - 0s 6ms/step - loss: 359375520.0000 - mae: 13848.3945 - mse: 359375520.0000 - val_loss: 368525952.0000 - val_mae: 13837.3486 - val_mse: 368525952.0000\n",
      "Epoch 68/1000\n",
      "26/26 [==============================] - 0s 5ms/step - loss: 359207552.0000 - mae: 13847.9766 - mse: 359207552.0000 - val_loss: 368297408.0000 - val_mae: 13830.9434 - val_mse: 368297408.0000\n",
      "Epoch 69/1000\n",
      "26/26 [==============================] - 0s 5ms/step - loss: 359100576.0000 - mae: 13846.8428 - mse: 359100576.0000 - val_loss: 368162016.0000 - val_mae: 13828.0059 - val_mse: 368162016.0000\n",
      "Epoch 70/1000\n",
      "26/26 [==============================] - 0s 5ms/step - loss: 358860576.0000 - mae: 13840.6816 - mse: 358860576.0000 - val_loss: 368001184.0000 - val_mae: 13822.8516 - val_mse: 368001184.0000\n",
      "Epoch 71/1000\n",
      "26/26 [==============================] - 0s 5ms/step - loss: 358873152.0000 - mae: 13843.6299 - mse: 358873152.0000 - val_loss: 367865696.0000 - val_mae: 13821.4863 - val_mse: 367865696.0000\n",
      "Epoch 72/1000\n",
      "26/26 [==============================] - 0s 5ms/step - loss: 358625696.0000 - mae: 13833.7871 - mse: 358625696.0000 - val_loss: 367610112.0000 - val_mae: 13815.7568 - val_mse: 367610112.0000\n",
      "Epoch 73/1000\n",
      "26/26 [==============================] - 0s 5ms/step - loss: 358569408.0000 - mae: 13818.8350 - mse: 358569408.0000 - val_loss: 367400576.0000 - val_mae: 13809.1309 - val_mse: 367400576.0000\n",
      "Epoch 74/1000\n",
      "26/26 [==============================] - 0s 5ms/step - loss: 358495872.0000 - mae: 13818.6250 - mse: 358495840.0000 - val_loss: 367165312.0000 - val_mae: 13803.8281 - val_mse: 367165312.0000\n",
      "Epoch 75/1000\n",
      "26/26 [==============================] - 0s 5ms/step - loss: 358265376.0000 - mae: 13815.8271 - mse: 358265376.0000 - val_loss: 367086816.0000 - val_mae: 13801.3613 - val_mse: 367086816.0000\n",
      "Epoch 76/1000\n",
      "26/26 [==============================] - 0s 5ms/step - loss: 358205280.0000 - mae: 13805.9414 - mse: 358205280.0000 - val_loss: 367126016.0000 - val_mae: 13804.0586 - val_mse: 367126016.0000\n",
      "Epoch 77/1000\n",
      "26/26 [==============================] - 0s 5ms/step - loss: 357984128.0000 - mae: 13812.7285 - mse: 357984128.0000 - val_loss: 366935360.0000 - val_mae: 13802.5205 - val_mse: 366935360.0000\n",
      "Epoch 78/1000\n",
      "26/26 [==============================] - 0s 5ms/step - loss: 357922208.0000 - mae: 13804.4521 - mse: 357922208.0000 - val_loss: 366770048.0000 - val_mae: 13799.9443 - val_mse: 366770048.0000\n",
      "Epoch 79/1000\n",
      "26/26 [==============================] - 0s 5ms/step - loss: 357736064.0000 - mae: 13808.4414 - mse: 357736064.0000 - val_loss: 366460448.0000 - val_mae: 13792.7588 - val_mse: 366460448.0000\n",
      "Epoch 80/1000\n",
      "26/26 [==============================] - 0s 6ms/step - loss: 357622208.0000 - mae: 13795.2715 - mse: 357622208.0000 - val_loss: 366433248.0000 - val_mae: 13792.9580 - val_mse: 366433248.0000\n",
      "Epoch 81/1000\n"
     ]
    },
    {
     "name": "stdout",
     "output_type": "stream",
     "text": [
      "26/26 [==============================] - 0s 5ms/step - loss: 357589504.0000 - mae: 13801.4043 - mse: 357589504.0000 - val_loss: 366460000.0000 - val_mae: 13795.2549 - val_mse: 366460000.0000\n",
      "Epoch 82/1000\n",
      "26/26 [==============================] - 0s 5ms/step - loss: 357362176.0000 - mae: 13797.5352 - mse: 357362176.0000 - val_loss: 366268608.0000 - val_mae: 13794.2412 - val_mse: 366268608.0000\n",
      "Epoch 83/1000\n",
      "26/26 [==============================] - 0s 5ms/step - loss: 357245376.0000 - mae: 13791.0928 - mse: 357245376.0000 - val_loss: 366157120.0000 - val_mae: 13793.5117 - val_mse: 366157120.0000\n",
      "Epoch 84/1000\n",
      "26/26 [==============================] - 0s 5ms/step - loss: 357193856.0000 - mae: 13794.0840 - mse: 357193856.0000 - val_loss: 366147168.0000 - val_mae: 13794.9805 - val_mse: 366147168.0000\n",
      "Epoch 85/1000\n",
      "26/26 [==============================] - 0s 4ms/step - loss: 357075392.0000 - mae: 13784.4258 - mse: 357075392.0000 - val_loss: 366102336.0000 - val_mae: 13793.0459 - val_mse: 366102336.0000\n",
      "Epoch 86/1000\n",
      "26/26 [==============================] - 0s 6ms/step - loss: 356882144.0000 - mae: 13791.4707 - mse: 356882144.0000 - val_loss: 365970944.0000 - val_mae: 13791.3662 - val_mse: 365970944.0000\n",
      "Epoch 87/1000\n",
      "26/26 [==============================] - 0s 5ms/step - loss: 356834336.0000 - mae: 13799.5762 - mse: 356834336.0000 - val_loss: 365816224.0000 - val_mae: 13789.4658 - val_mse: 365816224.0000\n",
      "Epoch 88/1000\n",
      "26/26 [==============================] - 0s 5ms/step - loss: 356701472.0000 - mae: 13789.3955 - mse: 356701472.0000 - val_loss: 365780928.0000 - val_mae: 13789.5547 - val_mse: 365780928.0000\n",
      "Epoch 89/1000\n",
      "26/26 [==============================] - 0s 4ms/step - loss: 356629280.0000 - mae: 13782.6914 - mse: 356629280.0000 - val_loss: 365471936.0000 - val_mae: 13783.1816 - val_mse: 365471936.0000\n",
      "Epoch 90/1000\n",
      "26/26 [==============================] - 0s 5ms/step - loss: 356550912.0000 - mae: 13776.8916 - mse: 356550912.0000 - val_loss: 365388064.0000 - val_mae: 13783.1836 - val_mse: 365388064.0000\n",
      "Epoch 91/1000\n",
      "26/26 [==============================] - 0s 6ms/step - loss: 356377504.0000 - mae: 13781.9121 - mse: 356377504.0000 - val_loss: 365148064.0000 - val_mae: 13778.3145 - val_mse: 365148064.0000\n",
      "Epoch 92/1000\n",
      "26/26 [==============================] - 0s 5ms/step - loss: 356212384.0000 - mae: 13778.4395 - mse: 356212384.0000 - val_loss: 364986240.0000 - val_mae: 13774.3398 - val_mse: 364986240.0000\n",
      "Epoch 93/1000\n",
      "26/26 [==============================] - 0s 7ms/step - loss: 356217344.0000 - mae: 13773.8799 - mse: 356217344.0000 - val_loss: 364926624.0000 - val_mae: 13774.2100 - val_mse: 364926624.0000\n",
      "Epoch 94/1000\n",
      "26/26 [==============================] - 0s 6ms/step - loss: 356161344.0000 - mae: 13767.8945 - mse: 356161344.0000 - val_loss: 364646336.0000 - val_mae: 13768.2305 - val_mse: 364646336.0000\n",
      "Epoch 95/1000\n",
      "26/26 [==============================] - 0s 5ms/step - loss: 355995008.0000 - mae: 13768.2881 - mse: 355995008.0000 - val_loss: 364516512.0000 - val_mae: 13766.5586 - val_mse: 364516512.0000\n",
      "Epoch 96/1000\n",
      "26/26 [==============================] - 0s 5ms/step - loss: 355815072.0000 - mae: 13752.3770 - mse: 355815072.0000 - val_loss: 364495616.0000 - val_mae: 13768.0361 - val_mse: 364495616.0000\n",
      "Epoch 97/1000\n",
      "26/26 [==============================] - 0s 5ms/step - loss: 355817632.0000 - mae: 13761.2480 - mse: 355817632.0000 - val_loss: 364509600.0000 - val_mae: 13770.2588 - val_mse: 364509600.0000\n",
      "Epoch 98/1000\n",
      "26/26 [==============================] - 0s 5ms/step - loss: 355670336.0000 - mae: 13765.1680 - mse: 355670336.0000 - val_loss: 364338880.0000 - val_mae: 13767.5098 - val_mse: 364338880.0000\n",
      "Epoch 99/1000\n",
      "26/26 [==============================] - 0s 5ms/step - loss: 355520448.0000 - mae: 13752.7783 - mse: 355520448.0000 - val_loss: 364361376.0000 - val_mae: 13773.0361 - val_mse: 364361376.0000\n",
      "Epoch 100/1000\n",
      "26/26 [==============================] - 0s 5ms/step - loss: 355529248.0000 - mae: 13757.4258 - mse: 355529248.0000 - val_loss: 364198080.0000 - val_mae: 13770.7285 - val_mse: 364198080.0000\n",
      "Epoch 101/1000\n",
      "26/26 [==============================] - 0s 5ms/step - loss: 355273856.0000 - mae: 13752.9209 - mse: 355273856.0000 - val_loss: 364140832.0000 - val_mae: 13774.0410 - val_mse: 364140832.0000\n",
      "Epoch 102/1000\n",
      "26/26 [==============================] - 0s 6ms/step - loss: 355208832.0000 - mae: 13767.3584 - mse: 355208832.0000 - val_loss: 363961440.0000 - val_mae: 13771.8447 - val_mse: 363961440.0000\n",
      "Epoch 103/1000\n",
      "26/26 [==============================] - 0s 5ms/step - loss: 355092576.0000 - mae: 13748.4619 - mse: 355092576.0000 - val_loss: 363817760.0000 - val_mae: 13769.8555 - val_mse: 363817760.0000\n",
      "Epoch 104/1000\n",
      "26/26 [==============================] - 0s 5ms/step - loss: 355039680.0000 - mae: 13744.9258 - mse: 355039680.0000 - val_loss: 363727936.0000 - val_mae: 13770.7939 - val_mse: 363727936.0000\n",
      "Epoch 105/1000\n",
      "26/26 [==============================] - 0s 5ms/step - loss: 354952992.0000 - mae: 13753.8828 - mse: 354952992.0000 - val_loss: 363572640.0000 - val_mae: 13766.8096 - val_mse: 363572640.0000\n",
      "Epoch 106/1000\n",
      "26/26 [==============================] - 0s 5ms/step - loss: 354834624.0000 - mae: 13743.9414 - mse: 354834624.0000 - val_loss: 363453984.0000 - val_mae: 13765.7734 - val_mse: 363453984.0000\n",
      "Epoch 107/1000\n",
      "26/26 [==============================] - 0s 5ms/step - loss: 354684864.0000 - mae: 13747.0605 - mse: 354684864.0000 - val_loss: 363443104.0000 - val_mae: 13768.8193 - val_mse: 363443104.0000\n",
      "Epoch 108/1000\n",
      "26/26 [==============================] - 0s 5ms/step - loss: 354581280.0000 - mae: 13755.9619 - mse: 354581280.0000 - val_loss: 363210528.0000 - val_mae: 13762.3242 - val_mse: 363210528.0000\n",
      "Epoch 109/1000\n",
      "26/26 [==============================] - 0s 5ms/step - loss: 354543264.0000 - mae: 13739.1963 - mse: 354543264.0000 - val_loss: 363092896.0000 - val_mae: 13760.7695 - val_mse: 363092896.0000\n",
      "Epoch 110/1000\n",
      "26/26 [==============================] - 0s 6ms/step - loss: 354551680.0000 - mae: 13753.1230 - mse: 354551680.0000 - val_loss: 362975168.0000 - val_mae: 13760.5000 - val_mse: 362975168.0000\n",
      "Epoch 111/1000\n",
      "26/26 [==============================] - 0s 6ms/step - loss: 354260480.0000 - mae: 13742.1475 - mse: 354260480.0000 - val_loss: 362789632.0000 - val_mae: 13757.7705 - val_mse: 362789632.0000\n",
      "Epoch 112/1000\n",
      "26/26 [==============================] - 0s 5ms/step - loss: 354241056.0000 - mae: 13738.8350 - mse: 354241056.0000 - val_loss: 362731328.0000 - val_mae: 13756.9414 - val_mse: 362731328.0000\n",
      "Epoch 113/1000\n",
      "26/26 [==============================] - 0s 5ms/step - loss: 354192224.0000 - mae: 13731.5645 - mse: 354192224.0000 - val_loss: 362622208.0000 - val_mae: 13755.6543 - val_mse: 362622208.0000\n",
      "Epoch 114/1000\n",
      "26/26 [==============================] - 0s 6ms/step - loss: 354096736.0000 - mae: 13731.0195 - mse: 354096736.0000 - val_loss: 362504192.0000 - val_mae: 13755.9893 - val_mse: 362504192.0000\n",
      "Epoch 115/1000\n",
      "26/26 [==============================] - 0s 6ms/step - loss: 353916416.0000 - mae: 13732.3027 - mse: 353916416.0000 - val_loss: 362332640.0000 - val_mae: 13749.6211 - val_mse: 362332640.0000\n",
      "Epoch 116/1000\n",
      "26/26 [==============================] - 0s 5ms/step - loss: 353829376.0000 - mae: 13735.2148 - mse: 353829376.0000 - val_loss: 362127200.0000 - val_mae: 13746.1240 - val_mse: 362127200.0000\n",
      "Epoch 117/1000\n",
      "26/26 [==============================] - 0s 6ms/step - loss: 353884512.0000 - mae: 13718.6299 - mse: 353884512.0000 - val_loss: 362250048.0000 - val_mae: 13748.1514 - val_mse: 362250048.0000\n",
      "Epoch 118/1000\n",
      "26/26 [==============================] - 0s 7ms/step - loss: 353721184.0000 - mae: 13724.8105 - mse: 353721184.0000 - val_loss: 362169600.0000 - val_mae: 13748.0361 - val_mse: 362169600.0000\n"
     ]
    }
   ],
   "source": [
    "#Recreating our model with a callback parameter\n",
    "EPOCHS = 1000\n",
    "\n",
    "h = my_model.fit(\n",
    "    norm_train, train_labels, validation_split = 0.2, \n",
    "    epochs = EPOCHS, batch_size = 16,\n",
    "    callbacks = [\n",
    "    tf.keras.callbacks.EarlyStopping(monitor = 'val_loss', patience = 2)\n",
    "    ]\n",
    ")"
   ]
  },
  {
   "cell_type": "code",
   "execution_count": 349,
   "id": "e506d919",
   "metadata": {},
   "outputs": [
    {
     "data": {
      "image/png": "[encoded data removed]",
      "text/plain": [
       "<Figure size 432x288 with 1 Axes>"
      ]
     },
     "metadata": {
      "needs_background": "light"
     },
     "output_type": "display_data"
    },
    {
     "data": {
      "image/png": "[encoded data removed]",
      "text/plain": [
       "<Figure size 432x288 with 1 Axes>"
      ]
     },
     "metadata": {
      "needs_background": "light"
     },
     "output_type": "display_data"
    }
   ],
   "source": [
    "plot_history(h)\n",
    "\n",
    "#for moritoring val_loss"
   ]
  },
  {
   "cell_type": "code",
   "execution_count": 350,
   "id": "8502b238",
   "metadata": {},
   "outputs": [
    {
     "name": "stdout",
     "output_type": "stream",
     "text": [
      "Testing set Mean Absolute Error is :  14290.298828125\n"
     ]
    }
   ],
   "source": [
    "loss, mae, mse = my_model.evaluate(norm_test, test_labels, verbose = 0)\n",
    "\n",
    "print(\"Testing set Mean Absolute Error is : \", mae) #The error in price"
   ]
  },
  {
   "cell_type": "code",
   "execution_count": 381,
   "id": "7fb54697",
   "metadata": {},
   "outputs": [
    {
     "data": {
      "text/plain": [
       "(5150.0, 177850.0, 21918.05380859375, 194618.05380859374)"
      ]
     },
     "execution_count": 381,
     "metadata": {},
     "output_type": "execute_result"
    },
    {
     "data": {
      "image/png": "[encoded data removed]",
      "text/plain": [
       "<Figure size 432x288 with 1 Axes>"
      ]
     },
     "metadata": {
      "needs_background": "light"
     },
     "output_type": "display_data"
    }
   ],
   "source": [
    "#Making predictions\n",
    "\n",
    "test_pred = my_model.predict(norm_test).flatten()\n",
    "\n",
    "plt.scatter(test_labels, test_pred)\n",
    "plt.xlabel('True Values')\n",
    "plt.ylabel('Predictions')\n",
    "plt.axis('equal')\n",
    "plt.axis('square')\n"
   ]
  },
  {
   "cell_type": "code",
   "execution_count": 382,
   "id": "3e94c287",
   "metadata": {},
   "outputs": [
    {
     "data": {
      "text/plain": [
       "Text(0, 0.5, 'Count')"
      ]
     },
     "execution_count": 382,
     "metadata": {},
     "output_type": "execute_result"
    },
    {
     "data": {
      "image/png": "[encoded data removed]",
      "text/plain": [
       "<Figure size 432x288 with 1 Axes>"
      ]
     },
     "metadata": {
      "needs_background": "light"
     },
     "output_type": "display_data"
    }
   ],
   "source": [
    "#checking error\n",
    "\n",
    "error = test_pred - test_labels\n",
    "plt.hist(error, bins = 25)\n",
    "plt.xlabel('Prediction Error')\n",
    "plt.ylabel('Count')"
   ]
  },
  {
   "cell_type": "code",
   "execution_count": 383,
   "id": "1fc5dc5e",
   "metadata": {},
   "outputs": [],
   "source": [
    "#It somewhat looks like gaussian"
   ]
  },
  {
   "cell_type": "code",
   "execution_count": 386,
   "id": "2efe86ca",
   "metadata": {
    "collapsed": true
   },
   "outputs": [
    {
     "ename": "ValueError",
     "evalue": "in user code:\n\n    C:\\Users\\admin\\anaconda3\\lib\\site-packages\\tensorflow\\python\\keras\\engine\\training.py:1224 test_function  *\n        return step_function(self, iterator)\n    C:\\Users\\admin\\anaconda3\\lib\\site-packages\\tensorflow\\python\\keras\\engine\\training.py:1215 step_function  **\n        outputs = model.distribute_strategy.run(run_step, args=(data,))\n    C:\\Users\\admin\\anaconda3\\lib\\site-packages\\tensorflow\\python\\distribute\\distribute_lib.py:1211 run\n        return self._extended.call_for_each_replica(fn, args=args, kwargs=kwargs)\n    C:\\Users\\admin\\anaconda3\\lib\\site-packages\\tensorflow\\python\\distribute\\distribute_lib.py:2585 call_for_each_replica\n        return self._call_for_each_replica(fn, args, kwargs)\n    C:\\Users\\admin\\anaconda3\\lib\\site-packages\\tensorflow\\python\\distribute\\distribute_lib.py:2945 _call_for_each_replica\n        return fn(*args, **kwargs)\n    C:\\Users\\admin\\anaconda3\\lib\\site-packages\\tensorflow\\python\\keras\\engine\\training.py:1208 run_step  **\n        outputs = model.test_step(data)\n    C:\\Users\\admin\\anaconda3\\lib\\site-packages\\tensorflow\\python\\keras\\engine\\training.py:1174 test_step\n        y_pred = self(x, training=False)\n    C:\\Users\\admin\\anaconda3\\lib\\site-packages\\tensorflow\\python\\keras\\engine\\base_layer.py:975 __call__\n        input_spec.assert_input_compatibility(self.input_spec, inputs,\n    C:\\Users\\admin\\anaconda3\\lib\\site-packages\\tensorflow\\python\\keras\\engine\\input_spec.py:212 assert_input_compatibility\n        raise ValueError(\n\n    ValueError: Input 0 of layer sequential_13 is incompatible with the layer: expected axis -1 of input shape to have value 6 but received input with shape [None, 1]\n",
     "output_type": "error",
     "traceback": [
      "\u001b[1;31m---------------------------------------------------------------------------\u001b[0m",
      "\u001b[1;31mValueError\u001b[0m                                Traceback (most recent call last)",
      "\u001b[1;32m<ipython-input-386-260497ba77c4>\u001b[0m in \u001b[0;36m<module>\u001b[1;34m\u001b[0m\n\u001b[1;32m----> 1\u001b[1;33m \u001b[0mmy_model\u001b[0m\u001b[1;33m.\u001b[0m\u001b[0mevaluate\u001b[0m\u001b[1;33m(\u001b[0m\u001b[0mtest_pred\u001b[0m\u001b[1;33m,\u001b[0m \u001b[0mtest_labels\u001b[0m\u001b[1;33m,\u001b[0m \u001b[0mbatch_size\u001b[0m \u001b[1;33m=\u001b[0m \u001b[1;36m16\u001b[0m\u001b[1;33m)\u001b[0m\u001b[1;33m\u001b[0m\u001b[1;33m\u001b[0m\u001b[0m\n\u001b[0m",
      "\u001b[1;32m~\\anaconda3\\lib\\site-packages\\tensorflow\\python\\keras\\engine\\training.py\u001b[0m in \u001b[0;36m_method_wrapper\u001b[1;34m(self, *args, **kwargs)\u001b[0m\n\u001b[0;32m    106\u001b[0m   \u001b[1;32mdef\u001b[0m \u001b[0m_method_wrapper\u001b[0m\u001b[1;33m(\u001b[0m\u001b[0mself\u001b[0m\u001b[1;33m,\u001b[0m \u001b[1;33m*\u001b[0m\u001b[0margs\u001b[0m\u001b[1;33m,\u001b[0m \u001b[1;33m**\u001b[0m\u001b[0mkwargs\u001b[0m\u001b[1;33m)\u001b[0m\u001b[1;33m:\u001b[0m\u001b[1;33m\u001b[0m\u001b[1;33m\u001b[0m\u001b[0m\n\u001b[0;32m    107\u001b[0m     \u001b[1;32mif\u001b[0m \u001b[1;32mnot\u001b[0m \u001b[0mself\u001b[0m\u001b[1;33m.\u001b[0m\u001b[0m_in_multi_worker_mode\u001b[0m\u001b[1;33m(\u001b[0m\u001b[1;33m)\u001b[0m\u001b[1;33m:\u001b[0m  \u001b[1;31m# pylint: disable=protected-access\u001b[0m\u001b[1;33m\u001b[0m\u001b[1;33m\u001b[0m\u001b[0m\n\u001b[1;32m--> 108\u001b[1;33m       \u001b[1;32mreturn\u001b[0m \u001b[0mmethod\u001b[0m\u001b[1;33m(\u001b[0m\u001b[0mself\u001b[0m\u001b[1;33m,\u001b[0m \u001b[1;33m*\u001b[0m\u001b[0margs\u001b[0m\u001b[1;33m,\u001b[0m \u001b[1;33m**\u001b[0m\u001b[0mkwargs\u001b[0m\u001b[1;33m)\u001b[0m\u001b[1;33m\u001b[0m\u001b[1;33m\u001b[0m\u001b[0m\n\u001b[0m\u001b[0;32m    109\u001b[0m \u001b[1;33m\u001b[0m\u001b[0m\n\u001b[0;32m    110\u001b[0m     \u001b[1;31m# Running inside `run_distribute_coordinator` already.\u001b[0m\u001b[1;33m\u001b[0m\u001b[1;33m\u001b[0m\u001b[1;33m\u001b[0m\u001b[0m\n",
      "\u001b[1;32m~\\anaconda3\\lib\\site-packages\\tensorflow\\python\\keras\\engine\\training.py\u001b[0m in \u001b[0;36mevaluate\u001b[1;34m(self, x, y, batch_size, verbose, sample_weight, steps, callbacks, max_queue_size, workers, use_multiprocessing, return_dict)\u001b[0m\n\u001b[0;32m   1377\u001b[0m             \u001b[1;32mwith\u001b[0m \u001b[0mtrace\u001b[0m\u001b[1;33m.\u001b[0m\u001b[0mTrace\u001b[0m\u001b[1;33m(\u001b[0m\u001b[1;34m'TraceContext'\u001b[0m\u001b[1;33m,\u001b[0m \u001b[0mgraph_type\u001b[0m\u001b[1;33m=\u001b[0m\u001b[1;34m'test'\u001b[0m\u001b[1;33m,\u001b[0m \u001b[0mstep_num\u001b[0m\u001b[1;33m=\u001b[0m\u001b[0mstep\u001b[0m\u001b[1;33m)\u001b[0m\u001b[1;33m:\u001b[0m\u001b[1;33m\u001b[0m\u001b[1;33m\u001b[0m\u001b[0m\n\u001b[0;32m   1378\u001b[0m               \u001b[0mcallbacks\u001b[0m\u001b[1;33m.\u001b[0m\u001b[0mon_test_batch_begin\u001b[0m\u001b[1;33m(\u001b[0m\u001b[0mstep\u001b[0m\u001b[1;33m)\u001b[0m\u001b[1;33m\u001b[0m\u001b[1;33m\u001b[0m\u001b[0m\n\u001b[1;32m-> 1379\u001b[1;33m               \u001b[0mtmp_logs\u001b[0m \u001b[1;33m=\u001b[0m \u001b[0mtest_function\u001b[0m\u001b[1;33m(\u001b[0m\u001b[0miterator\u001b[0m\u001b[1;33m)\u001b[0m\u001b[1;33m\u001b[0m\u001b[1;33m\u001b[0m\u001b[0m\n\u001b[0m\u001b[0;32m   1380\u001b[0m               \u001b[1;32mif\u001b[0m \u001b[0mdata_handler\u001b[0m\u001b[1;33m.\u001b[0m\u001b[0mshould_sync\u001b[0m\u001b[1;33m:\u001b[0m\u001b[1;33m\u001b[0m\u001b[1;33m\u001b[0m\u001b[0m\n\u001b[0;32m   1381\u001b[0m                 \u001b[0mcontext\u001b[0m\u001b[1;33m.\u001b[0m\u001b[0masync_wait\u001b[0m\u001b[1;33m(\u001b[0m\u001b[1;33m)\u001b[0m\u001b[1;33m\u001b[0m\u001b[1;33m\u001b[0m\u001b[0m\n",
      "\u001b[1;32m~\\anaconda3\\lib\\site-packages\\tensorflow\\python\\eager\\def_function.py\u001b[0m in \u001b[0;36m__call__\u001b[1;34m(self, *args, **kwds)\u001b[0m\n\u001b[0;32m    778\u001b[0m       \u001b[1;32melse\u001b[0m\u001b[1;33m:\u001b[0m\u001b[1;33m\u001b[0m\u001b[1;33m\u001b[0m\u001b[0m\n\u001b[0;32m    779\u001b[0m         \u001b[0mcompiler\u001b[0m \u001b[1;33m=\u001b[0m \u001b[1;34m\"nonXla\"\u001b[0m\u001b[1;33m\u001b[0m\u001b[1;33m\u001b[0m\u001b[0m\n\u001b[1;32m--> 780\u001b[1;33m         \u001b[0mresult\u001b[0m \u001b[1;33m=\u001b[0m \u001b[0mself\u001b[0m\u001b[1;33m.\u001b[0m\u001b[0m_call\u001b[0m\u001b[1;33m(\u001b[0m\u001b[1;33m*\u001b[0m\u001b[0margs\u001b[0m\u001b[1;33m,\u001b[0m \u001b[1;33m**\u001b[0m\u001b[0mkwds\u001b[0m\u001b[1;33m)\u001b[0m\u001b[1;33m\u001b[0m\u001b[1;33m\u001b[0m\u001b[0m\n\u001b[0m\u001b[0;32m    781\u001b[0m \u001b[1;33m\u001b[0m\u001b[0m\n\u001b[0;32m    782\u001b[0m       \u001b[0mnew_tracing_count\u001b[0m \u001b[1;33m=\u001b[0m \u001b[0mself\u001b[0m\u001b[1;33m.\u001b[0m\u001b[0m_get_tracing_count\u001b[0m\u001b[1;33m(\u001b[0m\u001b[1;33m)\u001b[0m\u001b[1;33m\u001b[0m\u001b[1;33m\u001b[0m\u001b[0m\n",
      "\u001b[1;32m~\\anaconda3\\lib\\site-packages\\tensorflow\\python\\eager\\def_function.py\u001b[0m in \u001b[0;36m_call\u001b[1;34m(self, *args, **kwds)\u001b[0m\n\u001b[0;32m    812\u001b[0m       \u001b[1;31m# In this case we have not created variables on the first call. So we can\u001b[0m\u001b[1;33m\u001b[0m\u001b[1;33m\u001b[0m\u001b[1;33m\u001b[0m\u001b[0m\n\u001b[0;32m    813\u001b[0m       \u001b[1;31m# run the first trace but we should fail if variables are created.\u001b[0m\u001b[1;33m\u001b[0m\u001b[1;33m\u001b[0m\u001b[1;33m\u001b[0m\u001b[0m\n\u001b[1;32m--> 814\u001b[1;33m       \u001b[0mresults\u001b[0m \u001b[1;33m=\u001b[0m \u001b[0mself\u001b[0m\u001b[1;33m.\u001b[0m\u001b[0m_stateful_fn\u001b[0m\u001b[1;33m(\u001b[0m\u001b[1;33m*\u001b[0m\u001b[0margs\u001b[0m\u001b[1;33m,\u001b[0m \u001b[1;33m**\u001b[0m\u001b[0mkwds\u001b[0m\u001b[1;33m)\u001b[0m\u001b[1;33m\u001b[0m\u001b[1;33m\u001b[0m\u001b[0m\n\u001b[0m\u001b[0;32m    815\u001b[0m       \u001b[1;32mif\u001b[0m \u001b[0mself\u001b[0m\u001b[1;33m.\u001b[0m\u001b[0m_created_variables\u001b[0m\u001b[1;33m:\u001b[0m\u001b[1;33m\u001b[0m\u001b[1;33m\u001b[0m\u001b[0m\n\u001b[0;32m    816\u001b[0m         raise ValueError(\"Creating variables on a non-first call to a function\"\n",
      "\u001b[1;32m~\\anaconda3\\lib\\site-packages\\tensorflow\\python\\eager\\function.py\u001b[0m in \u001b[0;36m__call__\u001b[1;34m(self, *args, **kwargs)\u001b[0m\n\u001b[0;32m   2826\u001b[0m     \u001b[1;34m\"\"\"Calls a graph function specialized to the inputs.\"\"\"\u001b[0m\u001b[1;33m\u001b[0m\u001b[1;33m\u001b[0m\u001b[0m\n\u001b[0;32m   2827\u001b[0m     \u001b[1;32mwith\u001b[0m \u001b[0mself\u001b[0m\u001b[1;33m.\u001b[0m\u001b[0m_lock\u001b[0m\u001b[1;33m:\u001b[0m\u001b[1;33m\u001b[0m\u001b[1;33m\u001b[0m\u001b[0m\n\u001b[1;32m-> 2828\u001b[1;33m       \u001b[0mgraph_function\u001b[0m\u001b[1;33m,\u001b[0m \u001b[0margs\u001b[0m\u001b[1;33m,\u001b[0m \u001b[0mkwargs\u001b[0m \u001b[1;33m=\u001b[0m \u001b[0mself\u001b[0m\u001b[1;33m.\u001b[0m\u001b[0m_maybe_define_function\u001b[0m\u001b[1;33m(\u001b[0m\u001b[0margs\u001b[0m\u001b[1;33m,\u001b[0m \u001b[0mkwargs\u001b[0m\u001b[1;33m)\u001b[0m\u001b[1;33m\u001b[0m\u001b[1;33m\u001b[0m\u001b[0m\n\u001b[0m\u001b[0;32m   2829\u001b[0m     \u001b[1;32mreturn\u001b[0m \u001b[0mgraph_function\u001b[0m\u001b[1;33m.\u001b[0m\u001b[0m_filtered_call\u001b[0m\u001b[1;33m(\u001b[0m\u001b[0margs\u001b[0m\u001b[1;33m,\u001b[0m \u001b[0mkwargs\u001b[0m\u001b[1;33m)\u001b[0m  \u001b[1;31m# pylint: disable=protected-access\u001b[0m\u001b[1;33m\u001b[0m\u001b[1;33m\u001b[0m\u001b[0m\n\u001b[0;32m   2830\u001b[0m \u001b[1;33m\u001b[0m\u001b[0m\n",
      "\u001b[1;32m~\\anaconda3\\lib\\site-packages\\tensorflow\\python\\eager\\function.py\u001b[0m in \u001b[0;36m_maybe_define_function\u001b[1;34m(self, args, kwargs)\u001b[0m\n\u001b[0;32m   3208\u001b[0m           \u001b[1;32mand\u001b[0m \u001b[0mself\u001b[0m\u001b[1;33m.\u001b[0m\u001b[0minput_signature\u001b[0m \u001b[1;32mis\u001b[0m \u001b[1;32mNone\u001b[0m\u001b[1;33m\u001b[0m\u001b[1;33m\u001b[0m\u001b[0m\n\u001b[0;32m   3209\u001b[0m           and call_context_key in self._function_cache.missed):\n\u001b[1;32m-> 3210\u001b[1;33m         \u001b[1;32mreturn\u001b[0m \u001b[0mself\u001b[0m\u001b[1;33m.\u001b[0m\u001b[0m_define_function_with_shape_relaxation\u001b[0m\u001b[1;33m(\u001b[0m\u001b[0margs\u001b[0m\u001b[1;33m,\u001b[0m \u001b[0mkwargs\u001b[0m\u001b[1;33m)\u001b[0m\u001b[1;33m\u001b[0m\u001b[1;33m\u001b[0m\u001b[0m\n\u001b[0m\u001b[0;32m   3211\u001b[0m \u001b[1;33m\u001b[0m\u001b[0m\n\u001b[0;32m   3212\u001b[0m       \u001b[0mself\u001b[0m\u001b[1;33m.\u001b[0m\u001b[0m_function_cache\u001b[0m\u001b[1;33m.\u001b[0m\u001b[0mmissed\u001b[0m\u001b[1;33m.\u001b[0m\u001b[0madd\u001b[0m\u001b[1;33m(\u001b[0m\u001b[0mcall_context_key\u001b[0m\u001b[1;33m)\u001b[0m\u001b[1;33m\u001b[0m\u001b[1;33m\u001b[0m\u001b[0m\n",
      "\u001b[1;32m~\\anaconda3\\lib\\site-packages\\tensorflow\\python\\eager\\function.py\u001b[0m in \u001b[0;36m_define_function_with_shape_relaxation\u001b[1;34m(self, args, kwargs)\u001b[0m\n\u001b[0;32m   3139\u001b[0m           expand_composites=True)\n\u001b[0;32m   3140\u001b[0m \u001b[1;33m\u001b[0m\u001b[0m\n\u001b[1;32m-> 3141\u001b[1;33m     graph_function = self._create_graph_function(\n\u001b[0m\u001b[0;32m   3142\u001b[0m         args, kwargs, override_flat_arg_shapes=relaxed_arg_shapes)\n\u001b[0;32m   3143\u001b[0m     \u001b[0mself\u001b[0m\u001b[1;33m.\u001b[0m\u001b[0m_function_cache\u001b[0m\u001b[1;33m.\u001b[0m\u001b[0marg_relaxed\u001b[0m\u001b[1;33m[\u001b[0m\u001b[0mrank_only_cache_key\u001b[0m\u001b[1;33m]\u001b[0m \u001b[1;33m=\u001b[0m \u001b[0mgraph_function\u001b[0m\u001b[1;33m\u001b[0m\u001b[1;33m\u001b[0m\u001b[0m\n",
      "\u001b[1;32m~\\anaconda3\\lib\\site-packages\\tensorflow\\python\\eager\\function.py\u001b[0m in \u001b[0;36m_create_graph_function\u001b[1;34m(self, args, kwargs, override_flat_arg_shapes)\u001b[0m\n\u001b[0;32m   3063\u001b[0m     \u001b[0marg_names\u001b[0m \u001b[1;33m=\u001b[0m \u001b[0mbase_arg_names\u001b[0m \u001b[1;33m+\u001b[0m \u001b[0mmissing_arg_names\u001b[0m\u001b[1;33m\u001b[0m\u001b[1;33m\u001b[0m\u001b[0m\n\u001b[0;32m   3064\u001b[0m     graph_function = ConcreteFunction(\n\u001b[1;32m-> 3065\u001b[1;33m         func_graph_module.func_graph_from_py_func(\n\u001b[0m\u001b[0;32m   3066\u001b[0m             \u001b[0mself\u001b[0m\u001b[1;33m.\u001b[0m\u001b[0m_name\u001b[0m\u001b[1;33m,\u001b[0m\u001b[1;33m\u001b[0m\u001b[1;33m\u001b[0m\u001b[0m\n\u001b[0;32m   3067\u001b[0m             \u001b[0mself\u001b[0m\u001b[1;33m.\u001b[0m\u001b[0m_python_function\u001b[0m\u001b[1;33m,\u001b[0m\u001b[1;33m\u001b[0m\u001b[1;33m\u001b[0m\u001b[0m\n",
      "\u001b[1;32m~\\anaconda3\\lib\\site-packages\\tensorflow\\python\\framework\\func_graph.py\u001b[0m in \u001b[0;36mfunc_graph_from_py_func\u001b[1;34m(name, python_func, args, kwargs, signature, func_graph, autograph, autograph_options, add_control_dependencies, arg_names, op_return_value, collections, capture_by_value, override_flat_arg_shapes)\u001b[0m\n\u001b[0;32m    984\u001b[0m         \u001b[0m_\u001b[0m\u001b[1;33m,\u001b[0m \u001b[0moriginal_func\u001b[0m \u001b[1;33m=\u001b[0m \u001b[0mtf_decorator\u001b[0m\u001b[1;33m.\u001b[0m\u001b[0munwrap\u001b[0m\u001b[1;33m(\u001b[0m\u001b[0mpython_func\u001b[0m\u001b[1;33m)\u001b[0m\u001b[1;33m\u001b[0m\u001b[1;33m\u001b[0m\u001b[0m\n\u001b[0;32m    985\u001b[0m \u001b[1;33m\u001b[0m\u001b[0m\n\u001b[1;32m--> 986\u001b[1;33m       \u001b[0mfunc_outputs\u001b[0m \u001b[1;33m=\u001b[0m \u001b[0mpython_func\u001b[0m\u001b[1;33m(\u001b[0m\u001b[1;33m*\u001b[0m\u001b[0mfunc_args\u001b[0m\u001b[1;33m,\u001b[0m \u001b[1;33m**\u001b[0m\u001b[0mfunc_kwargs\u001b[0m\u001b[1;33m)\u001b[0m\u001b[1;33m\u001b[0m\u001b[1;33m\u001b[0m\u001b[0m\n\u001b[0m\u001b[0;32m    987\u001b[0m \u001b[1;33m\u001b[0m\u001b[0m\n\u001b[0;32m    988\u001b[0m       \u001b[1;31m# invariant: `func_outputs` contains only Tensors, CompositeTensors,\u001b[0m\u001b[1;33m\u001b[0m\u001b[1;33m\u001b[0m\u001b[1;33m\u001b[0m\u001b[0m\n",
      "\u001b[1;32m~\\anaconda3\\lib\\site-packages\\tensorflow\\python\\eager\\def_function.py\u001b[0m in \u001b[0;36mwrapped_fn\u001b[1;34m(*args, **kwds)\u001b[0m\n\u001b[0;32m    598\u001b[0m         \u001b[1;31m# __wrapped__ allows AutoGraph to swap in a converted function. We give\u001b[0m\u001b[1;33m\u001b[0m\u001b[1;33m\u001b[0m\u001b[1;33m\u001b[0m\u001b[0m\n\u001b[0;32m    599\u001b[0m         \u001b[1;31m# the function a weak reference to itself to avoid a reference cycle.\u001b[0m\u001b[1;33m\u001b[0m\u001b[1;33m\u001b[0m\u001b[1;33m\u001b[0m\u001b[0m\n\u001b[1;32m--> 600\u001b[1;33m         \u001b[1;32mreturn\u001b[0m \u001b[0mweak_wrapped_fn\u001b[0m\u001b[1;33m(\u001b[0m\u001b[1;33m)\u001b[0m\u001b[1;33m.\u001b[0m\u001b[0m__wrapped__\u001b[0m\u001b[1;33m(\u001b[0m\u001b[1;33m*\u001b[0m\u001b[0margs\u001b[0m\u001b[1;33m,\u001b[0m \u001b[1;33m**\u001b[0m\u001b[0mkwds\u001b[0m\u001b[1;33m)\u001b[0m\u001b[1;33m\u001b[0m\u001b[1;33m\u001b[0m\u001b[0m\n\u001b[0m\u001b[0;32m    601\u001b[0m     \u001b[0mweak_wrapped_fn\u001b[0m \u001b[1;33m=\u001b[0m \u001b[0mweakref\u001b[0m\u001b[1;33m.\u001b[0m\u001b[0mref\u001b[0m\u001b[1;33m(\u001b[0m\u001b[0mwrapped_fn\u001b[0m\u001b[1;33m)\u001b[0m\u001b[1;33m\u001b[0m\u001b[1;33m\u001b[0m\u001b[0m\n\u001b[0;32m    602\u001b[0m \u001b[1;33m\u001b[0m\u001b[0m\n",
      "\u001b[1;32m~\\anaconda3\\lib\\site-packages\\tensorflow\\python\\framework\\func_graph.py\u001b[0m in \u001b[0;36mwrapper\u001b[1;34m(*args, **kwargs)\u001b[0m\n\u001b[0;32m    971\u001b[0m           \u001b[1;32mexcept\u001b[0m \u001b[0mException\u001b[0m \u001b[1;32mas\u001b[0m \u001b[0me\u001b[0m\u001b[1;33m:\u001b[0m  \u001b[1;31m# pylint:disable=broad-except\u001b[0m\u001b[1;33m\u001b[0m\u001b[1;33m\u001b[0m\u001b[0m\n\u001b[0;32m    972\u001b[0m             \u001b[1;32mif\u001b[0m \u001b[0mhasattr\u001b[0m\u001b[1;33m(\u001b[0m\u001b[0me\u001b[0m\u001b[1;33m,\u001b[0m \u001b[1;34m\"ag_error_metadata\"\u001b[0m\u001b[1;33m)\u001b[0m\u001b[1;33m:\u001b[0m\u001b[1;33m\u001b[0m\u001b[1;33m\u001b[0m\u001b[0m\n\u001b[1;32m--> 973\u001b[1;33m               \u001b[1;32mraise\u001b[0m \u001b[0me\u001b[0m\u001b[1;33m.\u001b[0m\u001b[0mag_error_metadata\u001b[0m\u001b[1;33m.\u001b[0m\u001b[0mto_exception\u001b[0m\u001b[1;33m(\u001b[0m\u001b[0me\u001b[0m\u001b[1;33m)\u001b[0m\u001b[1;33m\u001b[0m\u001b[1;33m\u001b[0m\u001b[0m\n\u001b[0m\u001b[0;32m    974\u001b[0m             \u001b[1;32melse\u001b[0m\u001b[1;33m:\u001b[0m\u001b[1;33m\u001b[0m\u001b[1;33m\u001b[0m\u001b[0m\n\u001b[0;32m    975\u001b[0m               \u001b[1;32mraise\u001b[0m\u001b[1;33m\u001b[0m\u001b[1;33m\u001b[0m\u001b[0m\n",
      "\u001b[1;31mValueError\u001b[0m: in user code:\n\n    C:\\Users\\admin\\anaconda3\\lib\\site-packages\\tensorflow\\python\\keras\\engine\\training.py:1224 test_function  *\n        return step_function(self, iterator)\n    C:\\Users\\admin\\anaconda3\\lib\\site-packages\\tensorflow\\python\\keras\\engine\\training.py:1215 step_function  **\n        outputs = model.distribute_strategy.run(run_step, args=(data,))\n    C:\\Users\\admin\\anaconda3\\lib\\site-packages\\tensorflow\\python\\distribute\\distribute_lib.py:1211 run\n        return self._extended.call_for_each_replica(fn, args=args, kwargs=kwargs)\n    C:\\Users\\admin\\anaconda3\\lib\\site-packages\\tensorflow\\python\\distribute\\distribute_lib.py:2585 call_for_each_replica\n        return self._call_for_each_replica(fn, args, kwargs)\n    C:\\Users\\admin\\anaconda3\\lib\\site-packages\\tensorflow\\python\\distribute\\distribute_lib.py:2945 _call_for_each_replica\n        return fn(*args, **kwargs)\n    C:\\Users\\admin\\anaconda3\\lib\\site-packages\\tensorflow\\python\\keras\\engine\\training.py:1208 run_step  **\n        outputs = model.test_step(data)\n    C:\\Users\\admin\\anaconda3\\lib\\site-packages\\tensorflow\\python\\keras\\engine\\training.py:1174 test_step\n        y_pred = self(x, training=False)\n    C:\\Users\\admin\\anaconda3\\lib\\site-packages\\tensorflow\\python\\keras\\engine\\base_layer.py:975 __call__\n        input_spec.assert_input_compatibility(self.input_spec, inputs,\n    C:\\Users\\admin\\anaconda3\\lib\\site-packages\\tensorflow\\python\\keras\\engine\\input_spec.py:212 assert_input_compatibility\n        raise ValueError(\n\n    ValueError: Input 0 of layer sequential_13 is incompatible with the layer: expected axis -1 of input shape to have value 6 but received input with shape [None, 1]\n"
     ]
    }
   ],
   "source": [
    "my_model.(test_pred, test_labels, batch_size = 16)"
   ]
  },
  {
   "cell_type": "code",
   "execution_count": 390,
   "id": "a98229fb",
   "metadata": {},
   "outputs": [],
   "source": [
    "true = np.array(test_labels).flatten()"
   ]
  },
  {
   "cell_type": "code",
   "execution_count": 391,
   "id": "e167a8d1",
   "metadata": {},
   "outputs": [],
   "source": [
    "pred = test_pred.flatten()"
   ]
  },
  {
   "cell_type": "code",
   "execution_count": 392,
   "id": "0e8bad33",
   "metadata": {
    "collapsed": true
   },
   "outputs": [
    {
     "ename": "ValueError",
     "evalue": "Classification metrics can't handle a mix of multiclass and continuous targets",
     "output_type": "error",
     "traceback": [
      "\u001b[1;31m---------------------------------------------------------------------------\u001b[0m",
      "\u001b[1;31mValueError\u001b[0m                                Traceback (most recent call last)",
      "\u001b[1;32m<ipython-input-392-711cd74b90ce>\u001b[0m in \u001b[0;36m<module>\u001b[1;34m\u001b[0m\n\u001b[0;32m      1\u001b[0m \u001b[1;32mfrom\u001b[0m \u001b[0msklearn\u001b[0m\u001b[1;33m.\u001b[0m\u001b[0mmetrics\u001b[0m \u001b[1;32mimport\u001b[0m \u001b[0mconfusion_matrix\u001b[0m\u001b[1;33m\u001b[0m\u001b[1;33m\u001b[0m\u001b[0m\n\u001b[1;32m----> 2\u001b[1;33m \u001b[0mconfusion_matrix\u001b[0m\u001b[1;33m(\u001b[0m\u001b[0mtrue\u001b[0m\u001b[1;33m,\u001b[0m \u001b[0mpred\u001b[0m\u001b[1;33m)\u001b[0m\u001b[1;33m\u001b[0m\u001b[1;33m\u001b[0m\u001b[0m\n\u001b[0m",
      "\u001b[1;32m~\\anaconda3\\lib\\site-packages\\sklearn\\utils\\validation.py\u001b[0m in \u001b[0;36minner_f\u001b[1;34m(*args, **kwargs)\u001b[0m\n\u001b[0;32m     61\u001b[0m             \u001b[0mextra_args\u001b[0m \u001b[1;33m=\u001b[0m \u001b[0mlen\u001b[0m\u001b[1;33m(\u001b[0m\u001b[0margs\u001b[0m\u001b[1;33m)\u001b[0m \u001b[1;33m-\u001b[0m \u001b[0mlen\u001b[0m\u001b[1;33m(\u001b[0m\u001b[0mall_args\u001b[0m\u001b[1;33m)\u001b[0m\u001b[1;33m\u001b[0m\u001b[1;33m\u001b[0m\u001b[0m\n\u001b[0;32m     62\u001b[0m             \u001b[1;32mif\u001b[0m \u001b[0mextra_args\u001b[0m \u001b[1;33m<=\u001b[0m \u001b[1;36m0\u001b[0m\u001b[1;33m:\u001b[0m\u001b[1;33m\u001b[0m\u001b[1;33m\u001b[0m\u001b[0m\n\u001b[1;32m---> 63\u001b[1;33m                 \u001b[1;32mreturn\u001b[0m \u001b[0mf\u001b[0m\u001b[1;33m(\u001b[0m\u001b[1;33m*\u001b[0m\u001b[0margs\u001b[0m\u001b[1;33m,\u001b[0m \u001b[1;33m**\u001b[0m\u001b[0mkwargs\u001b[0m\u001b[1;33m)\u001b[0m\u001b[1;33m\u001b[0m\u001b[1;33m\u001b[0m\u001b[0m\n\u001b[0m\u001b[0;32m     64\u001b[0m \u001b[1;33m\u001b[0m\u001b[0m\n\u001b[0;32m     65\u001b[0m             \u001b[1;31m# extra_args > 0\u001b[0m\u001b[1;33m\u001b[0m\u001b[1;33m\u001b[0m\u001b[1;33m\u001b[0m\u001b[0m\n",
      "\u001b[1;32m~\\anaconda3\\lib\\site-packages\\sklearn\\metrics\\_classification.py\u001b[0m in \u001b[0;36mconfusion_matrix\u001b[1;34m(y_true, y_pred, labels, sample_weight, normalize)\u001b[0m\n\u001b[0;32m    294\u001b[0m \u001b[1;33m\u001b[0m\u001b[0m\n\u001b[0;32m    295\u001b[0m     \"\"\"\n\u001b[1;32m--> 296\u001b[1;33m     \u001b[0my_type\u001b[0m\u001b[1;33m,\u001b[0m \u001b[0my_true\u001b[0m\u001b[1;33m,\u001b[0m \u001b[0my_pred\u001b[0m \u001b[1;33m=\u001b[0m \u001b[0m_check_targets\u001b[0m\u001b[1;33m(\u001b[0m\u001b[0my_true\u001b[0m\u001b[1;33m,\u001b[0m \u001b[0my_pred\u001b[0m\u001b[1;33m)\u001b[0m\u001b[1;33m\u001b[0m\u001b[1;33m\u001b[0m\u001b[0m\n\u001b[0m\u001b[0;32m    297\u001b[0m     \u001b[1;32mif\u001b[0m \u001b[0my_type\u001b[0m \u001b[1;32mnot\u001b[0m \u001b[1;32min\u001b[0m \u001b[1;33m(\u001b[0m\u001b[1;34m\"binary\"\u001b[0m\u001b[1;33m,\u001b[0m \u001b[1;34m\"multiclass\"\u001b[0m\u001b[1;33m)\u001b[0m\u001b[1;33m:\u001b[0m\u001b[1;33m\u001b[0m\u001b[1;33m\u001b[0m\u001b[0m\n\u001b[0;32m    298\u001b[0m         \u001b[1;32mraise\u001b[0m \u001b[0mValueError\u001b[0m\u001b[1;33m(\u001b[0m\u001b[1;34m\"%s is not supported\"\u001b[0m \u001b[1;33m%\u001b[0m \u001b[0my_type\u001b[0m\u001b[1;33m)\u001b[0m\u001b[1;33m\u001b[0m\u001b[1;33m\u001b[0m\u001b[0m\n",
      "\u001b[1;32m~\\anaconda3\\lib\\site-packages\\sklearn\\metrics\\_classification.py\u001b[0m in \u001b[0;36m_check_targets\u001b[1;34m(y_true, y_pred)\u001b[0m\n\u001b[0;32m     90\u001b[0m \u001b[1;33m\u001b[0m\u001b[0m\n\u001b[0;32m     91\u001b[0m     \u001b[1;32mif\u001b[0m \u001b[0mlen\u001b[0m\u001b[1;33m(\u001b[0m\u001b[0my_type\u001b[0m\u001b[1;33m)\u001b[0m \u001b[1;33m>\u001b[0m \u001b[1;36m1\u001b[0m\u001b[1;33m:\u001b[0m\u001b[1;33m\u001b[0m\u001b[1;33m\u001b[0m\u001b[0m\n\u001b[1;32m---> 92\u001b[1;33m         raise ValueError(\"Classification metrics can't handle a mix of {0} \"\n\u001b[0m\u001b[0;32m     93\u001b[0m                          \"and {1} targets\".format(type_true, type_pred))\n\u001b[0;32m     94\u001b[0m \u001b[1;33m\u001b[0m\u001b[0m\n",
      "\u001b[1;31mValueError\u001b[0m: Classification metrics can't handle a mix of multiclass and continuous targets"
     ]
    }
   ],
   "source": [
    "from sklearn.metrics import confusion_matrix\n",
    "confusion_matrix(true, pred)"
   ]
  },
  {
   "cell_type": "code",
   "execution_count": null,
   "id": "48fee7ec",
   "metadata": {},
   "outputs": [],
   "source": []
  }
 ],
 "metadata": {
  "kernelspec": {
   "display_name": "Python 3",
   "language": "python",
   "name": "python3"
  },
  "language_info": {
   "codemirror_mode": {
    "name": "ipython",
    "version": 3
   },
   "file_extension": ".py",
   "mimetype": "text/x-python",
   "name": "python",
   "nbconvert_exporter": "python",
   "pygments_lexer": "ipython3",
   "version": "3.8.8"
  }
 },
 "nbformat": 4,
 "nbformat_minor": 5
}
