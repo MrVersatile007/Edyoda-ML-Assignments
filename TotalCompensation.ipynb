{
 "cells": [
  {
   "cell_type": "markdown",
   "metadata": {
    "id": "lDeLsIUnpETJ"
   },
   "source": [
    "Imagine you are working as a data scientist in a big organization which has thousands of employees. The HR department is planning to provide some additional compensation to each working employee which needs to be calculated by looking at the profile of each employee and the benefits they are getting. \n",
    "\n",
    "The HR department asks your help if you can use your data science and machine learning skills and calculate an estimated ‘Total Compensation’ for each employee.\n",
    "\n",
    "\n",
    "\n",
    "Data Description\n",
    "\n",
    "﻿OGC: Organization Group Code - Org Group is a group of Departments. For example, the Public Protection Org Group includes departments such as the Police, Fire, Adult Probation, District Attorney, and Sheriff.\n",
    "\n",
    "OG: Organization Group names\n",
    "\n",
    "DC: Department Code - Departments are the primary organizational unit used by the City and County of San Francisco. Examples include Recreation and Parks, Public Works, and the Police Department.\n",
    "\n",
    "Dept: Department name\n",
    "\n",
    "UC: Union Code - Unions represent employees in collective bargaining agreements. A job belongs to one union, although some jobs are unrepresented (usually temporarily).\n",
    "\n",
    "Union: Union names\n",
    "\n",
    "JF: Job Family - Job Family combines similar Jobs into meaningful groups.\n",
    "\n",
    "Job: Job name\n",
    "\n",
    "EI: Employee Identifier\n",
    "\n",
    "Salaries: Salary of the employee\n",
    "\n",
    "Overtime: Amounts paid to City employees working in excess of 40 hours per week. \n",
    "\n",
    "H/D: Health/Dental - City-paid premiums to health and dental insurance plans covering City employees. To protect confidentiality as legally required, pro-rated citywide averages are presented in lieu of employee-specific health and dental benefits. \n",
    "\n",
    "YT: Year Type - Fiscal (July through June) or Calendar (January through December)\n",
    "\n",
    "Total_Compensation: The final compensation i.e. the sum of all salaries and benefits paid to City employees.\n",
    "\n",
    "\n",
    "\n",
    "Dataset Link: https://drive.google.com/file/d/1mSkKEe0SUJ7AZHiubxKSke7HWf75JA_Z/view?usp=sharing\n",
    "\n"
   ]
  },
  {
   "cell_type": "markdown",
   "metadata": {},
   "source": [
    "# Loading Data"
   ]
  },
  {
   "cell_type": "code",
   "execution_count": 56,
   "metadata": {
    "id": "1I7YFvLtotAQ"
   },
   "outputs": [],
   "source": [
    "#Importing relevant libraties\n",
    "\n",
    "import pandas as pd\n",
    "import numpy as np\n",
    "import seaborn as sns\n",
    "import matplotlib.pyplot as plt"
   ]
  },
  {
   "cell_type": "code",
   "execution_count": 179,
   "metadata": {
    "colab": {
     "base_uri": "https://localhost:8080/",
     "height": 904
    },
    "executionInfo": {
     "elapsed": 996,
     "status": "ok",
     "timestamp": 1652065131148,
     "user": {
      "displayName": "17-219 TaruN",
      "userId": "14974014375719595528"
     },
     "user_tz": -330
    },
    "id": "BuGATwPCpXyg",
    "outputId": "9d5acb75-26e1-4649-ecbe-0ed775808c1f"
   },
   "outputs": [
    {
     "data": {
      "text/html": [
       "<div>\n",
       "<style scoped>\n",
       "    .dataframe tbody tr th:only-of-type {\n",
       "        vertical-align: middle;\n",
       "    }\n",
       "\n",
       "    .dataframe tbody tr th {\n",
       "        vertical-align: top;\n",
       "    }\n",
       "\n",
       "    .dataframe thead th {\n",
       "        text-align: right;\n",
       "    }\n",
       "</style>\n",
       "<table border=\"1\" class=\"dataframe\">\n",
       "  <thead>\n",
       "    <tr style=\"text-align: right;\">\n",
       "      <th></th>\n",
       "      <th>Year</th>\n",
       "      <th>OGC</th>\n",
       "      <th>OG</th>\n",
       "      <th>DC</th>\n",
       "      <th>Dept</th>\n",
       "      <th>UC</th>\n",
       "      <th>Union</th>\n",
       "      <th>JF</th>\n",
       "      <th>Job</th>\n",
       "      <th>EI</th>\n",
       "      <th>Salaries</th>\n",
       "      <th>Overtime</th>\n",
       "      <th>H/D</th>\n",
       "      <th>YT</th>\n",
       "      <th>Total_Compensation</th>\n",
       "    </tr>\n",
       "  </thead>\n",
       "  <tbody>\n",
       "    <tr>\n",
       "      <th>0</th>\n",
       "      <td>2015</td>\n",
       "      <td>4</td>\n",
       "      <td>Community Health</td>\n",
       "      <td>DPH</td>\n",
       "      <td>Public Health</td>\n",
       "      <td>250</td>\n",
       "      <td>SEIU - Health Workers, Local 1021</td>\n",
       "      <td>Med Therapy &amp; Auxiliary</td>\n",
       "      <td>Morgue Attendant</td>\n",
       "      <td>6725</td>\n",
       "      <td>12196</td>\n",
       "      <td>0</td>\n",
       "      <td>0.00</td>\n",
       "      <td>Calendar</td>\n",
       "      <td>16158</td>\n",
       "    </tr>\n",
       "    <tr>\n",
       "      <th>1</th>\n",
       "      <td>2013</td>\n",
       "      <td>4</td>\n",
       "      <td>Community Health</td>\n",
       "      <td>DPH</td>\n",
       "      <td>Public Health</td>\n",
       "      <td>39</td>\n",
       "      <td>Stationary Engineers, Local 39</td>\n",
       "      <td>Journeyman Trade</td>\n",
       "      <td>Stationary Engineer</td>\n",
       "      <td>25058</td>\n",
       "      <td>74639</td>\n",
       "      <td>2820</td>\n",
       "      <td>12703.31</td>\n",
       "      <td>Fiscal</td>\n",
       "      <td>115784</td>\n",
       "    </tr>\n",
       "    <tr>\n",
       "      <th>2</th>\n",
       "      <td>2015</td>\n",
       "      <td>6</td>\n",
       "      <td>General Administration &amp; Finance</td>\n",
       "      <td>ASR</td>\n",
       "      <td>Assessor/Recorder</td>\n",
       "      <td>21</td>\n",
       "      <td>Prof &amp; Tech Engineers - Miscellaneous, Local 21</td>\n",
       "      <td>Appraisal &amp; Taxation</td>\n",
       "      <td>Senior Real Property Appraiser</td>\n",
       "      <td>46108</td>\n",
       "      <td>100554</td>\n",
       "      <td>0</td>\n",
       "      <td>12424.50</td>\n",
       "      <td>Calendar</td>\n",
       "      <td>144708</td>\n",
       "    </tr>\n",
       "    <tr>\n",
       "      <th>3</th>\n",
       "      <td>2016</td>\n",
       "      <td>1</td>\n",
       "      <td>Public Protection</td>\n",
       "      <td>POL</td>\n",
       "      <td>Police</td>\n",
       "      <td>911</td>\n",
       "      <td>Police Officers' Association</td>\n",
       "      <td>Police Services</td>\n",
       "      <td>Sergeant 3</td>\n",
       "      <td>33369</td>\n",
       "      <td>140164</td>\n",
       "      <td>52754</td>\n",
       "      <td>13043.87</td>\n",
       "      <td>Fiscal</td>\n",
       "      <td>242323</td>\n",
       "    </tr>\n",
       "    <tr>\n",
       "      <th>4</th>\n",
       "      <td>2013</td>\n",
       "      <td>2</td>\n",
       "      <td>Public Works, Transportation &amp; Commerce</td>\n",
       "      <td>HHP</td>\n",
       "      <td>PUC Hetch Hetchy</td>\n",
       "      <td>21</td>\n",
       "      <td>Prof &amp; Tech Engineers - Miscellaneous, Local 21</td>\n",
       "      <td>Information Systems</td>\n",
       "      <td>IS Engineer-Journey</td>\n",
       "      <td>28684</td>\n",
       "      <td>58813</td>\n",
       "      <td>0</td>\n",
       "      <td>7655.28</td>\n",
       "      <td>Calendar</td>\n",
       "      <td>82106</td>\n",
       "    </tr>\n",
       "    <tr>\n",
       "      <th>...</th>\n",
       "      <td>...</td>\n",
       "      <td>...</td>\n",
       "      <td>...</td>\n",
       "      <td>...</td>\n",
       "      <td>...</td>\n",
       "      <td>...</td>\n",
       "      <td>...</td>\n",
       "      <td>...</td>\n",
       "      <td>...</td>\n",
       "      <td>...</td>\n",
       "      <td>...</td>\n",
       "      <td>...</td>\n",
       "      <td>...</td>\n",
       "      <td>...</td>\n",
       "      <td>...</td>\n",
       "    </tr>\n",
       "    <tr>\n",
       "      <th>287831</th>\n",
       "      <td>2016</td>\n",
       "      <td>3</td>\n",
       "      <td>Human Welfare &amp; Neighborhood Development</td>\n",
       "      <td>DSS</td>\n",
       "      <td>Human Services</td>\n",
       "      <td>535</td>\n",
       "      <td>SEIU - Human Services, Local 1021</td>\n",
       "      <td>Human Services</td>\n",
       "      <td>Senior Eligibility Worker</td>\n",
       "      <td>9610</td>\n",
       "      <td>78980</td>\n",
       "      <td>30115</td>\n",
       "      <td>13068.80</td>\n",
       "      <td>Fiscal</td>\n",
       "      <td>147079</td>\n",
       "    </tr>\n",
       "    <tr>\n",
       "      <th>287832</th>\n",
       "      <td>2015</td>\n",
       "      <td>5</td>\n",
       "      <td>Culture &amp; Recreation</td>\n",
       "      <td>LIB</td>\n",
       "      <td>Public Library</td>\n",
       "      <td>790</td>\n",
       "      <td>SEIU - Miscellaneous, Local 1021</td>\n",
       "      <td>Library</td>\n",
       "      <td>Librarian 1</td>\n",
       "      <td>790</td>\n",
       "      <td>30704</td>\n",
       "      <td>0</td>\n",
       "      <td>5465.57</td>\n",
       "      <td>Calendar</td>\n",
       "      <td>40174</td>\n",
       "    </tr>\n",
       "    <tr>\n",
       "      <th>287833</th>\n",
       "      <td>2014</td>\n",
       "      <td>2</td>\n",
       "      <td>Public Works, Transportation &amp; Commerce</td>\n",
       "      <td>HHP</td>\n",
       "      <td>PUC Hetch Hetchy</td>\n",
       "      <td>6</td>\n",
       "      <td>Electrical Workers, Local 6</td>\n",
       "      <td>Journeyman Trade</td>\n",
       "      <td>Electronic Maintenance Tech</td>\n",
       "      <td>38352</td>\n",
       "      <td>104451</td>\n",
       "      <td>0</td>\n",
       "      <td>13054.94</td>\n",
       "      <td>Calendar</td>\n",
       "      <td>164669</td>\n",
       "    </tr>\n",
       "    <tr>\n",
       "      <th>287834</th>\n",
       "      <td>2013</td>\n",
       "      <td>1</td>\n",
       "      <td>Public Protection</td>\n",
       "      <td>JUV</td>\n",
       "      <td>Juvenile Probation</td>\n",
       "      <td>250</td>\n",
       "      <td>SEIU - Health Workers, Local 1021</td>\n",
       "      <td>Housekeeping &amp; Laundry</td>\n",
       "      <td>Porter</td>\n",
       "      <td>29266</td>\n",
       "      <td>14425</td>\n",
       "      <td>0</td>\n",
       "      <td>4051.90</td>\n",
       "      <td>Calendar</td>\n",
       "      <td>19594</td>\n",
       "    </tr>\n",
       "    <tr>\n",
       "      <th>287835</th>\n",
       "      <td>2015</td>\n",
       "      <td>4</td>\n",
       "      <td>Community Health</td>\n",
       "      <td>DPH</td>\n",
       "      <td>Public Health</td>\n",
       "      <td>791</td>\n",
       "      <td>SEIU - Staff and Per Diem Nurses, Local 1021</td>\n",
       "      <td>Nursing</td>\n",
       "      <td>Special Nurse</td>\n",
       "      <td>13906</td>\n",
       "      <td>105561</td>\n",
       "      <td>8945</td>\n",
       "      <td>7993.89</td>\n",
       "      <td>Fiscal</td>\n",
       "      <td>154197</td>\n",
       "    </tr>\n",
       "  </tbody>\n",
       "</table>\n",
       "<p>287836 rows × 15 columns</p>\n",
       "</div>"
      ],
      "text/plain": [
       "        Year  OGC                                        OG   DC  \\\n",
       "0       2015    4                          Community Health  DPH   \n",
       "1       2013    4                          Community Health  DPH   \n",
       "2       2015    6          General Administration & Finance  ASR   \n",
       "3       2016    1                         Public Protection  POL   \n",
       "4       2013    2   Public Works, Transportation & Commerce  HHP   \n",
       "...      ...  ...                                       ...  ...   \n",
       "287831  2016    3  Human Welfare & Neighborhood Development  DSS   \n",
       "287832  2015    5                      Culture & Recreation  LIB   \n",
       "287833  2014    2   Public Works, Transportation & Commerce  HHP   \n",
       "287834  2013    1                         Public Protection  JUV   \n",
       "287835  2015    4                          Community Health  DPH   \n",
       "\n",
       "                      Dept   UC  \\\n",
       "0            Public Health  250   \n",
       "1            Public Health   39   \n",
       "2        Assessor/Recorder   21   \n",
       "3                   Police  911   \n",
       "4         PUC Hetch Hetchy   21   \n",
       "...                    ...  ...   \n",
       "287831      Human Services  535   \n",
       "287832      Public Library  790   \n",
       "287833    PUC Hetch Hetchy    6   \n",
       "287834  Juvenile Probation  250   \n",
       "287835       Public Health  791   \n",
       "\n",
       "                                                  Union  \\\n",
       "0                     SEIU - Health Workers, Local 1021   \n",
       "1                        Stationary Engineers, Local 39   \n",
       "2       Prof & Tech Engineers - Miscellaneous, Local 21   \n",
       "3                          Police Officers' Association   \n",
       "4       Prof & Tech Engineers - Miscellaneous, Local 21   \n",
       "...                                                 ...   \n",
       "287831                SEIU - Human Services, Local 1021   \n",
       "287832                 SEIU - Miscellaneous, Local 1021   \n",
       "287833                      Electrical Workers, Local 6   \n",
       "287834                SEIU - Health Workers, Local 1021   \n",
       "287835     SEIU - Staff and Per Diem Nurses, Local 1021   \n",
       "\n",
       "                             JF                             Job     EI  \\\n",
       "0       Med Therapy & Auxiliary                Morgue Attendant   6725   \n",
       "1              Journeyman Trade             Stationary Engineer  25058   \n",
       "2          Appraisal & Taxation  Senior Real Property Appraiser  46108   \n",
       "3               Police Services                      Sergeant 3  33369   \n",
       "4           Information Systems             IS Engineer-Journey  28684   \n",
       "...                         ...                             ...    ...   \n",
       "287831           Human Services       Senior Eligibility Worker   9610   \n",
       "287832                  Library                     Librarian 1    790   \n",
       "287833         Journeyman Trade     Electronic Maintenance Tech  38352   \n",
       "287834   Housekeeping & Laundry                          Porter  29266   \n",
       "287835                  Nursing                   Special Nurse  13906   \n",
       "\n",
       "        Salaries  Overtime       H/D        YT  Total_Compensation  \n",
       "0          12196         0      0.00  Calendar               16158  \n",
       "1          74639      2820  12703.31    Fiscal              115784  \n",
       "2         100554         0  12424.50  Calendar              144708  \n",
       "3         140164     52754  13043.87    Fiscal              242323  \n",
       "4          58813         0   7655.28  Calendar               82106  \n",
       "...          ...       ...       ...       ...                 ...  \n",
       "287831     78980     30115  13068.80    Fiscal              147079  \n",
       "287832     30704         0   5465.57  Calendar               40174  \n",
       "287833    104451         0  13054.94  Calendar              164669  \n",
       "287834     14425         0   4051.90  Calendar               19594  \n",
       "287835    105561      8945   7993.89    Fiscal              154197  \n",
       "\n",
       "[287836 rows x 15 columns]"
      ]
     },
     "execution_count": 179,
     "metadata": {},
     "output_type": "execute_result"
    }
   ],
   "source": [
    "#Loading data\n",
    "\n",
    "df= pd.read_csv('employee_compensation.csv')\n",
    "df"
   ]
  },
  {
   "cell_type": "code",
   "execution_count": 180,
   "metadata": {
    "id": "FgkKpbz7qAtl"
   },
   "outputs": [],
   "source": [
    "#reducing columns to only numeric columns for simplicity\n",
    "\n",
    "df = df[list(df.select_dtypes(include = np.number))]\n"
   ]
  },
  {
   "cell_type": "code",
   "execution_count": 181,
   "metadata": {
    "colab": {
     "base_uri": "https://localhost:8080/",
     "height": 424
    },
    "executionInfo": {
     "elapsed": 44,
     "status": "ok",
     "timestamp": 1652065131155,
     "user": {
      "displayName": "17-219 TaruN",
      "userId": "14974014375719595528"
     },
     "user_tz": -330
    },
    "id": "pBbkNcN3q62s",
    "outputId": "d672ec7d-b454-43f6-899b-a983cb888705"
   },
   "outputs": [
    {
     "data": {
      "text/html": [
       "<div>\n",
       "<style scoped>\n",
       "    .dataframe tbody tr th:only-of-type {\n",
       "        vertical-align: middle;\n",
       "    }\n",
       "\n",
       "    .dataframe tbody tr th {\n",
       "        vertical-align: top;\n",
       "    }\n",
       "\n",
       "    .dataframe thead th {\n",
       "        text-align: right;\n",
       "    }\n",
       "</style>\n",
       "<table border=\"1\" class=\"dataframe\">\n",
       "  <thead>\n",
       "    <tr style=\"text-align: right;\">\n",
       "      <th></th>\n",
       "      <th>Year</th>\n",
       "      <th>OGC</th>\n",
       "      <th>UC</th>\n",
       "      <th>EI</th>\n",
       "      <th>Salaries</th>\n",
       "      <th>Overtime</th>\n",
       "      <th>H/D</th>\n",
       "      <th>Total_Compensation</th>\n",
       "    </tr>\n",
       "  </thead>\n",
       "  <tbody>\n",
       "    <tr>\n",
       "      <th>0</th>\n",
       "      <td>2015</td>\n",
       "      <td>4</td>\n",
       "      <td>250</td>\n",
       "      <td>6725</td>\n",
       "      <td>12196</td>\n",
       "      <td>0</td>\n",
       "      <td>0.00</td>\n",
       "      <td>16158</td>\n",
       "    </tr>\n",
       "    <tr>\n",
       "      <th>1</th>\n",
       "      <td>2013</td>\n",
       "      <td>4</td>\n",
       "      <td>39</td>\n",
       "      <td>25058</td>\n",
       "      <td>74639</td>\n",
       "      <td>2820</td>\n",
       "      <td>12703.31</td>\n",
       "      <td>115784</td>\n",
       "    </tr>\n",
       "    <tr>\n",
       "      <th>2</th>\n",
       "      <td>2015</td>\n",
       "      <td>6</td>\n",
       "      <td>21</td>\n",
       "      <td>46108</td>\n",
       "      <td>100554</td>\n",
       "      <td>0</td>\n",
       "      <td>12424.50</td>\n",
       "      <td>144708</td>\n",
       "    </tr>\n",
       "    <tr>\n",
       "      <th>3</th>\n",
       "      <td>2016</td>\n",
       "      <td>1</td>\n",
       "      <td>911</td>\n",
       "      <td>33369</td>\n",
       "      <td>140164</td>\n",
       "      <td>52754</td>\n",
       "      <td>13043.87</td>\n",
       "      <td>242323</td>\n",
       "    </tr>\n",
       "    <tr>\n",
       "      <th>4</th>\n",
       "      <td>2013</td>\n",
       "      <td>2</td>\n",
       "      <td>21</td>\n",
       "      <td>28684</td>\n",
       "      <td>58813</td>\n",
       "      <td>0</td>\n",
       "      <td>7655.28</td>\n",
       "      <td>82106</td>\n",
       "    </tr>\n",
       "    <tr>\n",
       "      <th>...</th>\n",
       "      <td>...</td>\n",
       "      <td>...</td>\n",
       "      <td>...</td>\n",
       "      <td>...</td>\n",
       "      <td>...</td>\n",
       "      <td>...</td>\n",
       "      <td>...</td>\n",
       "      <td>...</td>\n",
       "    </tr>\n",
       "    <tr>\n",
       "      <th>287831</th>\n",
       "      <td>2016</td>\n",
       "      <td>3</td>\n",
       "      <td>535</td>\n",
       "      <td>9610</td>\n",
       "      <td>78980</td>\n",
       "      <td>30115</td>\n",
       "      <td>13068.80</td>\n",
       "      <td>147079</td>\n",
       "    </tr>\n",
       "    <tr>\n",
       "      <th>287832</th>\n",
       "      <td>2015</td>\n",
       "      <td>5</td>\n",
       "      <td>790</td>\n",
       "      <td>790</td>\n",
       "      <td>30704</td>\n",
       "      <td>0</td>\n",
       "      <td>5465.57</td>\n",
       "      <td>40174</td>\n",
       "    </tr>\n",
       "    <tr>\n",
       "      <th>287833</th>\n",
       "      <td>2014</td>\n",
       "      <td>2</td>\n",
       "      <td>6</td>\n",
       "      <td>38352</td>\n",
       "      <td>104451</td>\n",
       "      <td>0</td>\n",
       "      <td>13054.94</td>\n",
       "      <td>164669</td>\n",
       "    </tr>\n",
       "    <tr>\n",
       "      <th>287834</th>\n",
       "      <td>2013</td>\n",
       "      <td>1</td>\n",
       "      <td>250</td>\n",
       "      <td>29266</td>\n",
       "      <td>14425</td>\n",
       "      <td>0</td>\n",
       "      <td>4051.90</td>\n",
       "      <td>19594</td>\n",
       "    </tr>\n",
       "    <tr>\n",
       "      <th>287835</th>\n",
       "      <td>2015</td>\n",
       "      <td>4</td>\n",
       "      <td>791</td>\n",
       "      <td>13906</td>\n",
       "      <td>105561</td>\n",
       "      <td>8945</td>\n",
       "      <td>7993.89</td>\n",
       "      <td>154197</td>\n",
       "    </tr>\n",
       "  </tbody>\n",
       "</table>\n",
       "<p>287836 rows × 8 columns</p>\n",
       "</div>"
      ],
      "text/plain": [
       "        Year  OGC   UC     EI  Salaries  Overtime       H/D  \\\n",
       "0       2015    4  250   6725     12196         0      0.00   \n",
       "1       2013    4   39  25058     74639      2820  12703.31   \n",
       "2       2015    6   21  46108    100554         0  12424.50   \n",
       "3       2016    1  911  33369    140164     52754  13043.87   \n",
       "4       2013    2   21  28684     58813         0   7655.28   \n",
       "...      ...  ...  ...    ...       ...       ...       ...   \n",
       "287831  2016    3  535   9610     78980     30115  13068.80   \n",
       "287832  2015    5  790    790     30704         0   5465.57   \n",
       "287833  2014    2    6  38352    104451         0  13054.94   \n",
       "287834  2013    1  250  29266     14425         0   4051.90   \n",
       "287835  2015    4  791  13906    105561      8945   7993.89   \n",
       "\n",
       "        Total_Compensation  \n",
       "0                    16158  \n",
       "1                   115784  \n",
       "2                   144708  \n",
       "3                   242323  \n",
       "4                    82106  \n",
       "...                    ...  \n",
       "287831              147079  \n",
       "287832               40174  \n",
       "287833              164669  \n",
       "287834               19594  \n",
       "287835              154197  \n",
       "\n",
       "[287836 rows x 8 columns]"
      ]
     },
     "execution_count": 181,
     "metadata": {},
     "output_type": "execute_result"
    }
   ],
   "source": [
    "df"
   ]
  },
  {
   "cell_type": "markdown",
   "metadata": {},
   "source": [
    "# Data Wrangling and Visualization"
   ]
  },
  {
   "cell_type": "code",
   "execution_count": 182,
   "metadata": {},
   "outputs": [
    {
     "data": {
      "text/html": [
       "<div>\n",
       "<style scoped>\n",
       "    .dataframe tbody tr th:only-of-type {\n",
       "        vertical-align: middle;\n",
       "    }\n",
       "\n",
       "    .dataframe tbody tr th {\n",
       "        vertical-align: top;\n",
       "    }\n",
       "\n",
       "    .dataframe thead th {\n",
       "        text-align: right;\n",
       "    }\n",
       "</style>\n",
       "<table border=\"1\" class=\"dataframe\">\n",
       "  <thead>\n",
       "    <tr style=\"text-align: right;\">\n",
       "      <th></th>\n",
       "      <th>Year</th>\n",
       "      <th>OGC</th>\n",
       "      <th>UC</th>\n",
       "      <th>EI</th>\n",
       "      <th>Salaries</th>\n",
       "      <th>Overtime</th>\n",
       "      <th>H/D</th>\n",
       "      <th>Total_Compensation</th>\n",
       "    </tr>\n",
       "  </thead>\n",
       "  <tbody>\n",
       "    <tr>\n",
       "      <th>0</th>\n",
       "      <td>2015</td>\n",
       "      <td>4</td>\n",
       "      <td>250</td>\n",
       "      <td>6725</td>\n",
       "      <td>12196</td>\n",
       "      <td>0</td>\n",
       "      <td>0.00</td>\n",
       "      <td>16158</td>\n",
       "    </tr>\n",
       "    <tr>\n",
       "      <th>1</th>\n",
       "      <td>2013</td>\n",
       "      <td>4</td>\n",
       "      <td>39</td>\n",
       "      <td>25058</td>\n",
       "      <td>74639</td>\n",
       "      <td>2820</td>\n",
       "      <td>12703.31</td>\n",
       "      <td>115784</td>\n",
       "    </tr>\n",
       "    <tr>\n",
       "      <th>2</th>\n",
       "      <td>2015</td>\n",
       "      <td>6</td>\n",
       "      <td>21</td>\n",
       "      <td>46108</td>\n",
       "      <td>100554</td>\n",
       "      <td>0</td>\n",
       "      <td>12424.50</td>\n",
       "      <td>144708</td>\n",
       "    </tr>\n",
       "    <tr>\n",
       "      <th>3</th>\n",
       "      <td>2016</td>\n",
       "      <td>1</td>\n",
       "      <td>911</td>\n",
       "      <td>33369</td>\n",
       "      <td>140164</td>\n",
       "      <td>52754</td>\n",
       "      <td>13043.87</td>\n",
       "      <td>242323</td>\n",
       "    </tr>\n",
       "    <tr>\n",
       "      <th>4</th>\n",
       "      <td>2013</td>\n",
       "      <td>2</td>\n",
       "      <td>21</td>\n",
       "      <td>28684</td>\n",
       "      <td>58813</td>\n",
       "      <td>0</td>\n",
       "      <td>7655.28</td>\n",
       "      <td>82106</td>\n",
       "    </tr>\n",
       "    <tr>\n",
       "      <th>...</th>\n",
       "      <td>...</td>\n",
       "      <td>...</td>\n",
       "      <td>...</td>\n",
       "      <td>...</td>\n",
       "      <td>...</td>\n",
       "      <td>...</td>\n",
       "      <td>...</td>\n",
       "      <td>...</td>\n",
       "    </tr>\n",
       "    <tr>\n",
       "      <th>287831</th>\n",
       "      <td>2016</td>\n",
       "      <td>3</td>\n",
       "      <td>535</td>\n",
       "      <td>9610</td>\n",
       "      <td>78980</td>\n",
       "      <td>30115</td>\n",
       "      <td>13068.80</td>\n",
       "      <td>147079</td>\n",
       "    </tr>\n",
       "    <tr>\n",
       "      <th>287832</th>\n",
       "      <td>2015</td>\n",
       "      <td>5</td>\n",
       "      <td>790</td>\n",
       "      <td>790</td>\n",
       "      <td>30704</td>\n",
       "      <td>0</td>\n",
       "      <td>5465.57</td>\n",
       "      <td>40174</td>\n",
       "    </tr>\n",
       "    <tr>\n",
       "      <th>287833</th>\n",
       "      <td>2014</td>\n",
       "      <td>2</td>\n",
       "      <td>6</td>\n",
       "      <td>38352</td>\n",
       "      <td>104451</td>\n",
       "      <td>0</td>\n",
       "      <td>13054.94</td>\n",
       "      <td>164669</td>\n",
       "    </tr>\n",
       "    <tr>\n",
       "      <th>287834</th>\n",
       "      <td>2013</td>\n",
       "      <td>1</td>\n",
       "      <td>250</td>\n",
       "      <td>29266</td>\n",
       "      <td>14425</td>\n",
       "      <td>0</td>\n",
       "      <td>4051.90</td>\n",
       "      <td>19594</td>\n",
       "    </tr>\n",
       "    <tr>\n",
       "      <th>287835</th>\n",
       "      <td>2015</td>\n",
       "      <td>4</td>\n",
       "      <td>791</td>\n",
       "      <td>13906</td>\n",
       "      <td>105561</td>\n",
       "      <td>8945</td>\n",
       "      <td>7993.89</td>\n",
       "      <td>154197</td>\n",
       "    </tr>\n",
       "  </tbody>\n",
       "</table>\n",
       "<p>287836 rows × 8 columns</p>\n",
       "</div>"
      ],
      "text/plain": [
       "        Year  OGC   UC     EI  Salaries  Overtime       H/D  \\\n",
       "0       2015    4  250   6725     12196         0      0.00   \n",
       "1       2013    4   39  25058     74639      2820  12703.31   \n",
       "2       2015    6   21  46108    100554         0  12424.50   \n",
       "3       2016    1  911  33369    140164     52754  13043.87   \n",
       "4       2013    2   21  28684     58813         0   7655.28   \n",
       "...      ...  ...  ...    ...       ...       ...       ...   \n",
       "287831  2016    3  535   9610     78980     30115  13068.80   \n",
       "287832  2015    5  790    790     30704         0   5465.57   \n",
       "287833  2014    2    6  38352    104451         0  13054.94   \n",
       "287834  2013    1  250  29266     14425         0   4051.90   \n",
       "287835  2015    4  791  13906    105561      8945   7993.89   \n",
       "\n",
       "        Total_Compensation  \n",
       "0                    16158  \n",
       "1                   115784  \n",
       "2                   144708  \n",
       "3                   242323  \n",
       "4                    82106  \n",
       "...                    ...  \n",
       "287831              147079  \n",
       "287832               40174  \n",
       "287833              164669  \n",
       "287834               19594  \n",
       "287835              154197  \n",
       "\n",
       "[287836 rows x 8 columns]"
      ]
     },
     "execution_count": 182,
     "metadata": {},
     "output_type": "execute_result"
    }
   ],
   "source": [
    "#Dropping duplicates to minimise the effect of overfitting\n",
    "\n",
    "df.drop_duplicates()\n",
    "df"
   ]
  },
  {
   "cell_type": "code",
   "execution_count": 183,
   "metadata": {
    "colab": {
     "base_uri": "https://localhost:8080/"
    },
    "executionInfo": {
     "elapsed": 43,
     "status": "ok",
     "timestamp": 1652065131157,
     "user": {
      "displayName": "17-219 TaruN",
      "userId": "14974014375719595528"
     },
     "user_tz": -330
    },
    "id": "FQLTkfIYrHO9",
    "outputId": "08b76f59-b648-4917-a59a-f2a4f6b4667c"
   },
   "outputs": [
    {
     "data": {
      "text/plain": [
       "Year                  0.005986\n",
       "OGC                  -0.270160\n",
       "UC                   -0.032338\n",
       "EI                   -0.003966\n",
       "Salaries              0.972585\n",
       "Overtime              0.453497\n",
       "H/D                   0.806283\n",
       "Total_Compensation    1.000000\n",
       "Name: Total_Compensation, dtype: float64"
      ]
     },
     "execution_count": 183,
     "metadata": {},
     "output_type": "execute_result"
    }
   ],
   "source": [
    "#checikng corelation between the target and explanatory variables \n",
    "\n",
    "df.corr()['Total_Compensation']"
   ]
  },
  {
   "cell_type": "code",
   "execution_count": 184,
   "metadata": {
    "colab": {
     "base_uri": "https://localhost:8080/",
     "height": 352
    },
    "executionInfo": {
     "elapsed": 42,
     "status": "ok",
     "timestamp": 1652065131161,
     "user": {
      "displayName": "17-219 TaruN",
      "userId": "14974014375719595528"
     },
     "user_tz": -330
    },
    "id": "je2SiR1Srsux",
    "outputId": "7f366055-eeae-4095-a62f-a6b7562f42c2"
   },
   "outputs": [
    {
     "data": {
      "text/plain": [
       "<AxesSubplot:xlabel='Total_Compensation'>"
      ]
     },
     "execution_count": 184,
     "metadata": {},
     "output_type": "execute_result"
    },
    {
     "data": {
      "image/png": "[encoded data removed]",
      "text/plain": [
       "<Figure size 432x288 with 1 Axes>"
      ]
     },
     "metadata": {
      "needs_background": "light"
     },
     "output_type": "display_data"
    }
   ],
   "source": [
    "#Checking for outliers\n",
    "\n",
    "sns.boxplot(x= df['Total_Compensation'])"
   ]
  },
  {
   "cell_type": "code",
   "execution_count": 185,
   "metadata": {
    "id": "xXRNpb5zsCX4"
   },
   "outputs": [],
   "source": [
    "#Removing outliers\n",
    "\n",
    "q0 = df['Total_Compensation'].quantile(0.99)\n",
    "\n",
    "df = df[df['Total_Compensation'] < q0]"
   ]
  },
  {
   "cell_type": "code",
   "execution_count": 186,
   "metadata": {
    "colab": {
     "base_uri": "https://localhost:8080/",
     "height": 352
    },
    "executionInfo": {
     "elapsed": 18,
     "status": "ok",
     "timestamp": 1652065131734,
     "user": {
      "displayName": "17-219 TaruN",
      "userId": "14974014375719595528"
     },
     "user_tz": -330
    },
    "id": "0YEqFBe1sUwz",
    "outputId": "6120dd22-e934-468f-eb01-45498276e5b0"
   },
   "outputs": [
    {
     "data": {
      "text/plain": [
       "<AxesSubplot:xlabel='Total_Compensation'>"
      ]
     },
     "execution_count": 186,
     "metadata": {},
     "output_type": "execute_result"
    },
    {
     "data": {
      "image/png": "[encoded data removed]",
      "text/plain": [
       "<Figure size 432x288 with 1 Axes>"
      ]
     },
     "metadata": {
      "needs_background": "light"
     },
     "output_type": "display_data"
    }
   ],
   "source": [
    "#Outliers eliminated\n",
    "\n",
    "sns.boxplot(x= df['Total_Compensation'])"
   ]
  },
  {
   "cell_type": "code",
   "execution_count": 187,
   "metadata": {
    "colab": {
     "base_uri": "https://localhost:8080/",
     "height": 296
    },
    "executionInfo": {
     "elapsed": 1847,
     "status": "ok",
     "timestamp": 1652065133568,
     "user": {
      "displayName": "17-219 TaruN",
      "userId": "14974014375719595528"
     },
     "user_tz": -330
    },
    "id": "NBLmooHVrNqG",
    "outputId": "0c47cc0e-cd84-4319-dcbb-ec84839b470e"
   },
   "outputs": [
    {
     "data": {
      "text/plain": [
       "<AxesSubplot:xlabel='Salaries', ylabel='Total_Compensation'>"
      ]
     },
     "execution_count": 187,
     "metadata": {},
     "output_type": "execute_result"
    },
    {
     "data": {
      "image/png": "[encoded data removed]",
      "text/plain": [
       "<Figure size 432x288 with 1 Axes>"
      ]
     },
     "metadata": {
      "needs_background": "light"
     },
     "output_type": "display_data"
    }
   ],
   "source": [
    "#plotting scatterplot of Salaries against target (it has high co relation factor)\n",
    "\n",
    "sns.scatterplot(data = df, x= 'Salaries', y= 'Total_Compensation', alpha = 0.2)"
   ]
  },
  {
   "cell_type": "code",
   "execution_count": 188,
   "metadata": {
    "colab": {
     "base_uri": "https://localhost:8080/",
     "height": 351
    },
    "executionInfo": {
     "elapsed": 27,
     "status": "ok",
     "timestamp": 1652065133570,
     "user": {
      "displayName": "17-219 TaruN",
      "userId": "14974014375719595528"
     },
     "user_tz": -330
    },
    "id": "uGmmOELXux5W",
    "outputId": "e00f1bb7-cbf5-49d6-a89e-3dadbca95d4f"
   },
   "outputs": [
    {
     "data": {
      "text/plain": [
       "<AxesSubplot:xlabel='H/D'>"
      ]
     },
     "execution_count": 188,
     "metadata": {},
     "output_type": "execute_result"
    },
    {
     "data": {
      "image/png": "[encoded data removed]",
      "text/plain": [
       "<Figure size 432x288 with 1 Axes>"
      ]
     },
     "metadata": {
      "needs_background": "light"
     },
     "output_type": "display_data"
    }
   ],
   "source": [
    "#Checking for outliers\n",
    "\n",
    "sns.boxplot(x= df['H/D'])"
   ]
  },
  {
   "cell_type": "code",
   "execution_count": 189,
   "metadata": {
    "colab": {
     "base_uri": "https://localhost:8080/",
     "height": 296
    },
    "executionInfo": {
     "elapsed": 1307,
     "status": "ok",
     "timestamp": 1652065134858,
     "user": {
      "displayName": "17-219 TaruN",
      "userId": "14974014375719595528"
     },
     "user_tz": -330
    },
    "id": "Q9UG7vgTrgGJ",
    "outputId": "a196cff7-11cf-464c-fc49-10611876898a"
   },
   "outputs": [
    {
     "data": {
      "text/plain": [
       "<AxesSubplot:xlabel='H/D', ylabel='Total_Compensation'>"
      ]
     },
     "execution_count": 189,
     "metadata": {},
     "output_type": "execute_result"
    },
    {
     "data": {
      "image/png": "[encoded data removed]",
      "text/plain": [
       "<Figure size 432x288 with 1 Axes>"
      ]
     },
     "metadata": {
      "needs_background": "light"
     },
     "output_type": "display_data"
    }
   ],
   "source": [
    "#plotting scatterplot of H/D against target (it has high co relation factor)\n",
    "\n",
    "sns.scatterplot(data = df, x= 'H/D', y= 'Total_Compensation', alpha = 0.2)"
   ]
  },
  {
   "cell_type": "code",
   "execution_count": 194,
   "metadata": {
    "id": "M0vQt79NvxWc"
   },
   "outputs": [
    {
     "name": "stderr",
     "output_type": "stream",
     "text": [
      "C:\\Users\\admin\\anaconda3\\lib\\site-packages\\pandas\\core\\frame.py:4308: SettingWithCopyWarning: \n",
      "A value is trying to be set on a copy of a slice from a DataFrame\n",
      "\n",
      "See the caveats in the documentation: https://pandas.pydata.org/pandas-docs/stable/user_guide/indexing.html#returning-a-view-versus-a-copy\n",
      "  return super().drop(\n"
     ]
    }
   ],
   "source": [
    "#Eliminating less corelated values\n",
    "\n",
    "df.drop(['EI', 'Year', 'UC'], axis = 1, inplace = True)"
   ]
  },
  {
   "cell_type": "code",
   "execution_count": 195,
   "metadata": {
    "colab": {
     "base_uri": "https://localhost:8080/",
     "height": 424
    },
    "executionInfo": {
     "elapsed": 10,
     "status": "ok",
     "timestamp": 1652065143739,
     "user": {
      "displayName": "17-219 TaruN",
      "userId": "14974014375719595528"
     },
     "user_tz": -330
    },
    "id": "uzfLw61nv8Z5",
    "outputId": "d3295365-e27f-4d99-c006-7ffaa43e13d9"
   },
   "outputs": [
    {
     "data": {
      "text/html": [
       "<div>\n",
       "<style scoped>\n",
       "    .dataframe tbody tr th:only-of-type {\n",
       "        vertical-align: middle;\n",
       "    }\n",
       "\n",
       "    .dataframe tbody tr th {\n",
       "        vertical-align: top;\n",
       "    }\n",
       "\n",
       "    .dataframe thead th {\n",
       "        text-align: right;\n",
       "    }\n",
       "</style>\n",
       "<table border=\"1\" class=\"dataframe\">\n",
       "  <thead>\n",
       "    <tr style=\"text-align: right;\">\n",
       "      <th></th>\n",
       "      <th>OGC</th>\n",
       "      <th>Salaries</th>\n",
       "      <th>Overtime</th>\n",
       "      <th>H/D</th>\n",
       "      <th>Total_Compensation</th>\n",
       "    </tr>\n",
       "  </thead>\n",
       "  <tbody>\n",
       "    <tr>\n",
       "      <th>0</th>\n",
       "      <td>4</td>\n",
       "      <td>12196</td>\n",
       "      <td>0</td>\n",
       "      <td>0.00</td>\n",
       "      <td>16158</td>\n",
       "    </tr>\n",
       "    <tr>\n",
       "      <th>1</th>\n",
       "      <td>4</td>\n",
       "      <td>74639</td>\n",
       "      <td>2820</td>\n",
       "      <td>12703.31</td>\n",
       "      <td>115784</td>\n",
       "    </tr>\n",
       "    <tr>\n",
       "      <th>2</th>\n",
       "      <td>6</td>\n",
       "      <td>100554</td>\n",
       "      <td>0</td>\n",
       "      <td>12424.50</td>\n",
       "      <td>144708</td>\n",
       "    </tr>\n",
       "    <tr>\n",
       "      <th>3</th>\n",
       "      <td>1</td>\n",
       "      <td>140164</td>\n",
       "      <td>52754</td>\n",
       "      <td>13043.87</td>\n",
       "      <td>242323</td>\n",
       "    </tr>\n",
       "    <tr>\n",
       "      <th>4</th>\n",
       "      <td>2</td>\n",
       "      <td>58813</td>\n",
       "      <td>0</td>\n",
       "      <td>7655.28</td>\n",
       "      <td>82106</td>\n",
       "    </tr>\n",
       "    <tr>\n",
       "      <th>...</th>\n",
       "      <td>...</td>\n",
       "      <td>...</td>\n",
       "      <td>...</td>\n",
       "      <td>...</td>\n",
       "      <td>...</td>\n",
       "    </tr>\n",
       "    <tr>\n",
       "      <th>287831</th>\n",
       "      <td>3</td>\n",
       "      <td>78980</td>\n",
       "      <td>30115</td>\n",
       "      <td>13068.80</td>\n",
       "      <td>147079</td>\n",
       "    </tr>\n",
       "    <tr>\n",
       "      <th>287832</th>\n",
       "      <td>5</td>\n",
       "      <td>30704</td>\n",
       "      <td>0</td>\n",
       "      <td>5465.57</td>\n",
       "      <td>40174</td>\n",
       "    </tr>\n",
       "    <tr>\n",
       "      <th>287833</th>\n",
       "      <td>2</td>\n",
       "      <td>104451</td>\n",
       "      <td>0</td>\n",
       "      <td>13054.94</td>\n",
       "      <td>164669</td>\n",
       "    </tr>\n",
       "    <tr>\n",
       "      <th>287834</th>\n",
       "      <td>1</td>\n",
       "      <td>14425</td>\n",
       "      <td>0</td>\n",
       "      <td>4051.90</td>\n",
       "      <td>19594</td>\n",
       "    </tr>\n",
       "    <tr>\n",
       "      <th>287835</th>\n",
       "      <td>4</td>\n",
       "      <td>105561</td>\n",
       "      <td>8945</td>\n",
       "      <td>7993.89</td>\n",
       "      <td>154197</td>\n",
       "    </tr>\n",
       "  </tbody>\n",
       "</table>\n",
       "<p>284957 rows × 5 columns</p>\n",
       "</div>"
      ],
      "text/plain": [
       "        OGC  Salaries  Overtime       H/D  Total_Compensation\n",
       "0         4     12196         0      0.00               16158\n",
       "1         4     74639      2820  12703.31              115784\n",
       "2         6    100554         0  12424.50              144708\n",
       "3         1    140164     52754  13043.87              242323\n",
       "4         2     58813         0   7655.28               82106\n",
       "...     ...       ...       ...       ...                 ...\n",
       "287831    3     78980     30115  13068.80              147079\n",
       "287832    5     30704         0   5465.57               40174\n",
       "287833    2    104451         0  13054.94              164669\n",
       "287834    1     14425         0   4051.90               19594\n",
       "287835    4    105561      8945   7993.89              154197\n",
       "\n",
       "[284957 rows x 5 columns]"
      ]
     },
     "execution_count": 195,
     "metadata": {},
     "output_type": "execute_result"
    }
   ],
   "source": [
    "df"
   ]
  },
  {
   "cell_type": "markdown",
   "metadata": {},
   "source": [
    "# Data Preprocessing and Model Creation"
   ]
  },
  {
   "cell_type": "code",
   "execution_count": 223,
   "metadata": {
    "id": "lahjO1a6wYh-"
   },
   "outputs": [],
   "source": [
    "#Importing relevant ML libraries and methods\n",
    "\n",
    "from sklearn.linear_model import LinearRegression\n",
    "from sklearn.metrics import accuracy_score\n",
    "from sklearn.model_selection import train_test_split as tts\n",
    "from sklearn.preprocessing import StandardScaler\n",
    "import time"
   ]
  },
  {
   "cell_type": "code",
   "execution_count": 232,
   "metadata": {},
   "outputs": [],
   "source": [
    "#Some preprocessing\n",
    "\n",
    "X= df.drop('Total_Compensation', axis = 1)\n",
    "y= df.Total_Compensation\n",
    "\n",
    "scaler = StandardScaler()\n",
    "\n",
    "scaled_X = scaler.fit_transform(X)\n",
    "scaled_y = scaler.fit_transform(np.array(y).reshape(-1,1))"
   ]
  },
  {
   "cell_type": "code",
   "execution_count": 233,
   "metadata": {},
   "outputs": [
    {
     "data": {
      "text/plain": [
       "((284957, 4), (284957, 1))"
      ]
     },
     "execution_count": 233,
     "metadata": {},
     "output_type": "execute_result"
    }
   ],
   "source": [
    "#the shapes of both variables\n",
    "\n",
    "scaled_X.shape, scaled_y.shape"
   ]
  },
  {
   "cell_type": "code",
   "execution_count": 234,
   "metadata": {},
   "outputs": [
    {
     "data": {
      "text/plain": [
       "((227965, 4), (56992, 4), (227965, 1), (56992, 1))"
      ]
     },
     "execution_count": 234,
     "metadata": {},
     "output_type": "execute_result"
    }
   ],
   "source": [
    "#Train test split to check our model accuracy \n",
    "\n",
    "X_train, X_test, y_train, y_test = tts(scaled_X, scaled_y, test_size = 0.2)\n",
    "\n",
    "X_train.shape, X_test.shape, y_train.shape, y_test.shape"
   ]
  },
  {
   "cell_type": "code",
   "execution_count": 254,
   "metadata": {},
   "outputs": [],
   "source": [
    "#Our model creation\n",
    "\n",
    "my_model = LinearRegression()\n",
    "\n",
    "start = time.time()\n",
    "\n",
    "my_model.fit(X_train, y_train)\n",
    "accuracy = my_model.score(X_test, y_test)\n",
    "\n",
    "end = time.time()"
   ]
  },
  {
   "cell_type": "code",
   "execution_count": 258,
   "metadata": {},
   "outputs": [
    {
     "data": {
      "text/plain": [
       "0.9875955067074981"
      ]
     },
     "execution_count": 258,
     "metadata": {},
     "output_type": "execute_result"
    }
   ],
   "source": [
    "#Accuracy of our model\n",
    "accuracy"
   ]
  },
  {
   "cell_type": "code",
   "execution_count": 259,
   "metadata": {},
   "outputs": [
    {
     "name": "stdout",
     "output_type": "stream",
     "text": [
      "time taken for Linear Regression model is :  0.13600778579711914\n",
      "the accuracy of Linear Regression model is :  0.9875955067074981\n"
     ]
    }
   ],
   "source": [
    "print('time taken for Linear Regression model is : ', end-start)\n",
    "print('the accuracy of Linear Regression model is : ', accuracy)"
   ]
  },
  {
   "cell_type": "code",
   "execution_count": 239,
   "metadata": {},
   "outputs": [],
   "source": [
    "# We got good accuracy within good time complexity !"
   ]
  },
  {
   "cell_type": "code",
   "execution_count": 240,
   "metadata": {},
   "outputs": [
    {
     "data": {
      "text/plain": [
       "Text(0, 0.5, 'Actual Values')"
      ]
     },
     "execution_count": 240,
     "metadata": {},
     "output_type": "execute_result"
    },
    {
     "data": {
      "image/png": "[encoded data removed]",
      "text/plain": [
       "<Figure size 432x288 with 1 Axes>"
      ]
     },
     "metadata": {
      "needs_background": "light"
     },
     "output_type": "display_data"
    }
   ],
   "source": [
    "#Graph between actual and predicted values if the graph aligns with 45 degree line our model is perfect\n",
    "\n",
    "plt.title('Actual values vs Predicted values')\n",
    "plt.scatter(x= y_hat.flatten(), y= y_test.flatten(), color = 'g', alpha = 0.2)\n",
    "plt.xlabel('Predicted Values', size= 20, color = 'b')\n",
    "plt.ylabel('Actual Values', size= 20, color = 'r')"
   ]
  },
  {
   "cell_type": "code",
   "execution_count": 241,
   "metadata": {},
   "outputs": [],
   "source": [
    "# Yayy! we acheived a good level of accuracy"
   ]
  },
  {
   "cell_type": "code",
   "execution_count": 242,
   "metadata": {},
   "outputs": [],
   "source": [
    "#APPENDIX"
   ]
  },
  {
   "cell_type": "code",
   "execution_count": 243,
   "metadata": {},
   "outputs": [],
   "source": [
    "#Lets try with different ML models and lets check who got better accuracy"
   ]
  },
  {
   "cell_type": "code",
   "execution_count": 244,
   "metadata": {},
   "outputs": [],
   "source": [
    "#Decision Tree algorithm\n",
    "\n",
    "from sklearn.tree import DecisionTreeRegressor\n",
    "\n",
    "my_tree = DecisionTreeRegressor()"
   ]
  },
  {
   "cell_type": "code",
   "execution_count": 247,
   "metadata": {},
   "outputs": [],
   "source": [
    "start = time.time()\n",
    "\n",
    "my_tree.fit(X_train, y_train)\n",
    "accuracy = my_tree.score(X_test, y_test)\n",
    "\n",
    "end = time.time()"
   ]
  },
  {
   "cell_type": "code",
   "execution_count": 248,
   "metadata": {},
   "outputs": [
    {
     "name": "stdout",
     "output_type": "stream",
     "text": [
      "time taken for decision Tree:  4.906565189361572\n",
      "the accuracy of Decision Tree model is : 0.9830644778067791\n"
     ]
    }
   ],
   "source": [
    "print('time taken for decision Tree: ', end-start)\n",
    "print ('the accuracy of Decision Tree model is :', accuracy)"
   ]
  },
  {
   "cell_type": "code",
   "execution_count": 249,
   "metadata": {},
   "outputs": [],
   "source": [
    "#We got 97% accuracy"
   ]
  },
  {
   "cell_type": "code",
   "execution_count": 250,
   "metadata": {},
   "outputs": [],
   "source": [
    "#K Nearest Neighbors algorithm\n",
    "\n",
    "from sklearn.neighbors import KNeighborsRegressor\n",
    "\n",
    "my_KNN = KNeighborsRegressor()"
   ]
  },
  {
   "cell_type": "code",
   "execution_count": 251,
   "metadata": {},
   "outputs": [],
   "source": [
    "start = time.time()\n",
    "\n",
    "my_KNN.fit(X_train, y_train)\n",
    "accuracy = my_KNN.score(X_test, y_test)\n",
    "\n",
    "end = time.time()"
   ]
  },
  {
   "cell_type": "code",
   "execution_count": 252,
   "metadata": {},
   "outputs": [
    {
     "name": "stdout",
     "output_type": "stream",
     "text": [
      "time taken for KNN Tree:  75.9038736820221\n",
      "the accuracy of KNN model is :  0.9892777003082657\n"
     ]
    }
   ],
   "source": [
    "print('time taken for KNN Tree: ', end-start)\n",
    "print('the accuracy of KNN model is : ', accuracy)"
   ]
  },
  {
   "cell_type": "code",
   "execution_count": null,
   "metadata": {},
   "outputs": [],
   "source": [
    "#We got 98.3 % accuracy, but still This model is not preferable because Time taken is longer"
   ]
  },
  {
   "cell_type": "code",
   "execution_count": 260,
   "metadata": {},
   "outputs": [],
   "source": [
    "#By taking Accuracy and Time complexity into considerations Linear regression is most preferable than Decision Tree and KNN"
   ]
  },
  {
   "cell_type": "markdown",
   "metadata": {},
   "source": [
    "# Thank You"
   ]
  }
 ],
 "metadata": {
  "colab": {
   "authorship_tag": "ABX9TyOZ4kzzAw9yhxsOxpdzcDKk",
   "collapsed_sections": [],
   "name": "TotalCompensation.ipynb",
   "provenance": []
  },
  "kernelspec": {
   "display_name": "Python 3",
   "language": "python",
   "name": "python3"
  },
  "language_info": {
   "codemirror_mode": {
    "name": "ipython",
    "version": 3
   },
   "file_extension": ".py",
   "mimetype": "text/x-python",
   "name": "python",
   "nbconvert_exporter": "python",
   "pygments_lexer": "ipython3",
   "version": "3.8.8"
  }
 },
 "nbformat": 4,
 "nbformat_minor": 1
}
